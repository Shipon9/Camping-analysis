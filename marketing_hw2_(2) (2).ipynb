{
  "nbformat": 4,
  "nbformat_minor": 0,
  "metadata": {
    "colab": {
      "provenance": [],
      "toc_visible": true,
      "collapsed_sections": [
        "QrAxPzDmcdGs",
        "wh1-829RhJQM",
        "s4R4KoRxjCDb"
      ]
    },
    "kernelspec": {
      "name": "python3",
      "display_name": "Python 3"
    },
    "language_info": {
      "name": "python"
    }
  },
  "cells": [
    {
      "cell_type": "markdown",
      "source": [
        "# HW 2\n",
        "Ajay Mishra,Shipon Nath,Michel Ngoye, Ilona Inchenko,Arina "
      ],
      "metadata": {
        "id": "GaofqSSzGJ2m"
      }
    },
    {
      "cell_type": "markdown",
      "source": [
        "# Import libraries and read files"
      ],
      "metadata": {
        "id": "XmxKx8YGGOUR"
      }
    },
    {
      "cell_type": "code",
      "execution_count": 2,
      "metadata": {
        "id": "h-w4paOQFCnt"
      },
      "outputs": [],
      "source": [
        "import pandas as pd\n",
        "import json\n",
        "import requests\n",
        "import urllib\n",
        "import matplotlib.pyplot as plt\n",
        "import seaborn as sns"
      ]
    },
    {
      "cell_type": "code",
      "source": [
        "# 1)Read file \"twins_base\"\n",
        "targetUrl = \"https://disk.yandex.ru/d/Sgi_dNgZZjKtFA\" \n",
        "url = \"https://cloud-api.yandex.net/v1/disk/public/resources?public_key=\" + urllib.parse.quote(targetUrl, safe=\"\") \n",
        "responseData = requests.get(url) \n",
        "url = responseData.json()['file'] + '/' + responseData.json()['name'] \n",
        "twins_base = pd.read_csv(url)"
      ],
      "metadata": {
        "id": "ef33dsdZFEiB"
      },
      "execution_count": 3,
      "outputs": []
    },
    {
      "cell_type": "code",
      "source": [
        "# 2)Read file \"visa_transactions_non_particip\", set type for 'transaction_dt' as date\n",
        "targetUrl = \"https://disk.yandex.ru/d/zRxnwszzuyaq_w\" \n",
        "url = \"https://cloud-api.yandex.net/v1/disk/public/resources?public_key=\" + urllib.parse.quote(targetUrl, safe=\"\") \n",
        "responseData = requests.get(url) \n",
        "url = responseData.json()['file'] + '/' + responseData.json()['name'] \n",
        "visa_transactions_non_particip = pd.read_csv(url, parse_dates=['transaction_dt'])\n"
      ],
      "metadata": {
        "id": "qXO-aKoJGi0h"
      },
      "execution_count": 4,
      "outputs": []
    },
    {
      "cell_type": "code",
      "source": [
        "# 3)Read file \"visa_transactions\", set type for 'transaction_dt' as date\n",
        "targetUrl = \"https://disk.yandex.ru/d/U3FAIu5hF6rSFQ\" \n",
        "url = \"https://cloud-api.yandex.net/v1/disk/public/resources?public_key=\" + urllib.parse.quote(targetUrl, safe=\"\") \n",
        "responseData = requests.get(url) \n",
        "url = responseData.json()['file'] + '/' + responseData.json()['name'] \n",
        "visa_transactions = pd.read_csv(url, parse_dates=['transaction_dt'])"
      ],
      "metadata": {
        "id": "Hi5EFrX5Gi3d"
      },
      "execution_count": 5,
      "outputs": []
    },
    {
      "cell_type": "code",
      "source": [
        "# 4)Read file \"visa_communications\", set type for 'contact_dt' as date\n",
        "targetUrl = \"https://disk.yandex.ru/d/cJCp7I-VXrGOyA\" \n",
        "url = \"https://cloud-api.yandex.net/v1/disk/public/resources?public_key=\" + urllib.parse.quote(targetUrl, safe=\"\") \n",
        "responseData = requests.get(url) \n",
        "url = responseData.json()['file'] + '/' + responseData.json()['name']  \n",
        "visa_communications = pd.read_csv(url, parse_dates=['contact_dt'])"
      ],
      "metadata": {
        "id": "77qqk-ZJI_TI"
      },
      "execution_count": 6,
      "outputs": []
    },
    {
      "cell_type": "code",
      "source": [
        "# 5)Read file \"card_openings\", set type for 'contact_dt' and 'open_dt' as date\n",
        "targetUrl = \"https://disk.yandex.ru/d/N7XkKp5RZa8yQw\" \n",
        "url = \"https://cloud-api.yandex.net/v1/disk/public/resources?public_key=\" + urllib.parse.quote(targetUrl, safe=\"\") \n",
        "responseData = requests.get(url) \n",
        "url = responseData.json()['file'] + '/' + responseData.json()['name'] \n",
        "card_openings = pd.read_csv(url, parse_dates=['open_dt', 'contact_dt'])"
      ],
      "metadata": {
        "id": "lH9st2bSJulu"
      },
      "execution_count": 7,
      "outputs": []
    },
    {
      "cell_type": "code",
      "source": [
        "# 6)Read file \"card_openings_non_participants\", set type for 'contact_dt' and 'open_dt' as date\n",
        "targetUrl = \"https://disk.yandex.ru/d/NhktlkH_1tHVzA\" \n",
        "url = \"https://cloud-api.yandex.net/v1/disk/public/resources?public_key=\" + urllib.parse.quote(targetUrl, safe=\"\") \n",
        "responseData = requests.get(url) \n",
        "url = responseData.json()['file'] + '/' + responseData.json()['name'] \n",
        "card_openings_non_participants = pd.read_csv(url, parse_dates=['open_dt', 'contact_dt'])"
      ],
      "metadata": {
        "id": "SBIbUdUXJuoC"
      },
      "execution_count": 8,
      "outputs": []
    },
    {
      "cell_type": "code",
      "source": [
        "# 7)Read file \"features\"\n",
        "targetUrl = \"https://disk.yandex.ru/d/3q1U8TLFxz5S9g\" \n",
        "url = \"https://cloud-api.yandex.net/v1/disk/public/resources?public_key=\" + urllib.parse.quote(targetUrl, safe=\"\") \n",
        "responseData = requests.get(url) \n",
        "url = responseData.json()['file'] + '/' + responseData.json()['name'] \n",
        "features_try2=pd.read_csv(url, compression='zip')"
      ],
      "metadata": {
        "id": "wyN2oG95S4rv"
      },
      "execution_count": 13,
      "outputs": []
    },
    {
      "cell_type": "markdown",
      "source": [
        "# Data preprocessing"
      ],
      "metadata": {
        "id": "0dARsKCNSaQq"
      }
    },
    {
      "cell_type": "markdown",
      "source": [
        "### Description"
      ],
      "metadata": {
        "id": "4qoP4XegSlbs"
      }
    },
    {
      "cell_type": "code",
      "source": [
        "twins_base.head(2)"
      ],
      "metadata": {
        "colab": {
          "base_uri": "https://localhost:8080/",
          "height": 112
        },
        "id": "z12bfCj_F-Na",
        "outputId": "d77cd084-9b17-442c-b011-51523a7d98bb"
      },
      "execution_count": 14,
      "outputs": [
        {
          "output_type": "execute_result",
          "data": {
            "text/plain": [
              "                                          tg_cust_id  \\\n",
              "0  0002389bfab4bb945654b5b3ac7441e2c634e6062fc780...   \n",
              "1  0003e193ac559ca40490de7e059116752e4e621366ba2c...   \n",
              "\n",
              "                     synthetic_control_group_cust_id  \n",
              "0  1b5e8227cdc3e41b8159684a4ca09c6107cebc2b92630e...  \n",
              "1  b3433e2f2b7eb77ffb9806e7ad9ebbeb2d119d2bdf1682...  "
            ],
            "text/html": [
              "\n",
              "  <div id=\"df-43c5e7b5-8061-4be9-a590-2f935669640e\">\n",
              "    <div class=\"colab-df-container\">\n",
              "      <div>\n",
              "<style scoped>\n",
              "    .dataframe tbody tr th:only-of-type {\n",
              "        vertical-align: middle;\n",
              "    }\n",
              "\n",
              "    .dataframe tbody tr th {\n",
              "        vertical-align: top;\n",
              "    }\n",
              "\n",
              "    .dataframe thead th {\n",
              "        text-align: right;\n",
              "    }\n",
              "</style>\n",
              "<table border=\"1\" class=\"dataframe\">\n",
              "  <thead>\n",
              "    <tr style=\"text-align: right;\">\n",
              "      <th></th>\n",
              "      <th>tg_cust_id</th>\n",
              "      <th>synthetic_control_group_cust_id</th>\n",
              "    </tr>\n",
              "  </thead>\n",
              "  <tbody>\n",
              "    <tr>\n",
              "      <th>0</th>\n",
              "      <td>0002389bfab4bb945654b5b3ac7441e2c634e6062fc780...</td>\n",
              "      <td>1b5e8227cdc3e41b8159684a4ca09c6107cebc2b92630e...</td>\n",
              "    </tr>\n",
              "    <tr>\n",
              "      <th>1</th>\n",
              "      <td>0003e193ac559ca40490de7e059116752e4e621366ba2c...</td>\n",
              "      <td>b3433e2f2b7eb77ffb9806e7ad9ebbeb2d119d2bdf1682...</td>\n",
              "    </tr>\n",
              "  </tbody>\n",
              "</table>\n",
              "</div>\n",
              "      <button class=\"colab-df-convert\" onclick=\"convertToInteractive('df-43c5e7b5-8061-4be9-a590-2f935669640e')\"\n",
              "              title=\"Convert this dataframe to an interactive table.\"\n",
              "              style=\"display:none;\">\n",
              "        \n",
              "  <svg xmlns=\"http://www.w3.org/2000/svg\" height=\"24px\"viewBox=\"0 0 24 24\"\n",
              "       width=\"24px\">\n",
              "    <path d=\"M0 0h24v24H0V0z\" fill=\"none\"/>\n",
              "    <path d=\"M18.56 5.44l.94 2.06.94-2.06 2.06-.94-2.06-.94-.94-2.06-.94 2.06-2.06.94zm-11 1L8.5 8.5l.94-2.06 2.06-.94-2.06-.94L8.5 2.5l-.94 2.06-2.06.94zm10 10l.94 2.06.94-2.06 2.06-.94-2.06-.94-.94-2.06-.94 2.06-2.06.94z\"/><path d=\"M17.41 7.96l-1.37-1.37c-.4-.4-.92-.59-1.43-.59-.52 0-1.04.2-1.43.59L10.3 9.45l-7.72 7.72c-.78.78-.78 2.05 0 2.83L4 21.41c.39.39.9.59 1.41.59.51 0 1.02-.2 1.41-.59l7.78-7.78 2.81-2.81c.8-.78.8-2.07 0-2.86zM5.41 20L4 18.59l7.72-7.72 1.47 1.35L5.41 20z\"/>\n",
              "  </svg>\n",
              "      </button>\n",
              "      \n",
              "  <style>\n",
              "    .colab-df-container {\n",
              "      display:flex;\n",
              "      flex-wrap:wrap;\n",
              "      gap: 12px;\n",
              "    }\n",
              "\n",
              "    .colab-df-convert {\n",
              "      background-color: #E8F0FE;\n",
              "      border: none;\n",
              "      border-radius: 50%;\n",
              "      cursor: pointer;\n",
              "      display: none;\n",
              "      fill: #1967D2;\n",
              "      height: 32px;\n",
              "      padding: 0 0 0 0;\n",
              "      width: 32px;\n",
              "    }\n",
              "\n",
              "    .colab-df-convert:hover {\n",
              "      background-color: #E2EBFA;\n",
              "      box-shadow: 0px 1px 2px rgba(60, 64, 67, 0.3), 0px 1px 3px 1px rgba(60, 64, 67, 0.15);\n",
              "      fill: #174EA6;\n",
              "    }\n",
              "\n",
              "    [theme=dark] .colab-df-convert {\n",
              "      background-color: #3B4455;\n",
              "      fill: #D2E3FC;\n",
              "    }\n",
              "\n",
              "    [theme=dark] .colab-df-convert:hover {\n",
              "      background-color: #434B5C;\n",
              "      box-shadow: 0px 1px 3px 1px rgba(0, 0, 0, 0.15);\n",
              "      filter: drop-shadow(0px 1px 2px rgba(0, 0, 0, 0.3));\n",
              "      fill: #FFFFFF;\n",
              "    }\n",
              "  </style>\n",
              "\n",
              "      <script>\n",
              "        const buttonEl =\n",
              "          document.querySelector('#df-43c5e7b5-8061-4be9-a590-2f935669640e button.colab-df-convert');\n",
              "        buttonEl.style.display =\n",
              "          google.colab.kernel.accessAllowed ? 'block' : 'none';\n",
              "\n",
              "        async function convertToInteractive(key) {\n",
              "          const element = document.querySelector('#df-43c5e7b5-8061-4be9-a590-2f935669640e');\n",
              "          const dataTable =\n",
              "            await google.colab.kernel.invokeFunction('convertToInteractive',\n",
              "                                                     [key], {});\n",
              "          if (!dataTable) return;\n",
              "\n",
              "          const docLinkHtml = 'Like what you see? Visit the ' +\n",
              "            '<a target=\"_blank\" href=https://colab.research.google.com/notebooks/data_table.ipynb>data table notebook</a>'\n",
              "            + ' to learn more about interactive tables.';\n",
              "          element.innerHTML = '';\n",
              "          dataTable['output_type'] = 'display_data';\n",
              "          await google.colab.output.renderOutput(dataTable, element);\n",
              "          const docLink = document.createElement('div');\n",
              "          docLink.innerHTML = docLinkHtml;\n",
              "          element.appendChild(docLink);\n",
              "        }\n",
              "      </script>\n",
              "    </div>\n",
              "  </div>\n",
              "  "
            ]
          },
          "metadata": {},
          "execution_count": 14
        }
      ]
    },
    {
      "cell_type": "code",
      "source": [
        "twins_base.isnull().sum()"
      ],
      "metadata": {
        "colab": {
          "base_uri": "https://localhost:8080/"
        },
        "id": "UbtGKkRVMczH",
        "outputId": "a3cf11a5-079a-4779-855a-e296f07bec34"
      },
      "execution_count": 15,
      "outputs": [
        {
          "output_type": "execute_result",
          "data": {
            "text/plain": [
              "tg_cust_id                         0\n",
              "synthetic_control_group_cust_id    0\n",
              "dtype: int64"
            ]
          },
          "metadata": {},
          "execution_count": 15
        }
      ]
    },
    {
      "cell_type": "code",
      "source": [
        "visa_transactions_non_particip.head(2)"
      ],
      "metadata": {
        "colab": {
          "base_uri": "https://localhost:8080/",
          "height": 112
        },
        "id": "kCUgqm2AHEQW",
        "outputId": "36847cdd-7b16-419c-fda0-9efc6d2bf417"
      },
      "execution_count": 16,
      "outputs": [
        {
          "output_type": "execute_result",
          "data": {
            "text/plain": [
              "                                             cust_id transaction_dt  mcc_id  \\\n",
              "0  7ab840dd10c9eec7ba477160c74eaff315746f5db370c9...     2021-08-28    5499   \n",
              "1  b920f5f439d996cb87ff138610bd123bcd03dae7bc4602...     2021-09-15    5921   \n",
              "\n",
              "   txn_sum  \n",
              "0   645.00  \n",
              "1   304.56  "
            ],
            "text/html": [
              "\n",
              "  <div id=\"df-c2e608de-8923-4b6e-a3ff-8a5a203669d3\">\n",
              "    <div class=\"colab-df-container\">\n",
              "      <div>\n",
              "<style scoped>\n",
              "    .dataframe tbody tr th:only-of-type {\n",
              "        vertical-align: middle;\n",
              "    }\n",
              "\n",
              "    .dataframe tbody tr th {\n",
              "        vertical-align: top;\n",
              "    }\n",
              "\n",
              "    .dataframe thead th {\n",
              "        text-align: right;\n",
              "    }\n",
              "</style>\n",
              "<table border=\"1\" class=\"dataframe\">\n",
              "  <thead>\n",
              "    <tr style=\"text-align: right;\">\n",
              "      <th></th>\n",
              "      <th>cust_id</th>\n",
              "      <th>transaction_dt</th>\n",
              "      <th>mcc_id</th>\n",
              "      <th>txn_sum</th>\n",
              "    </tr>\n",
              "  </thead>\n",
              "  <tbody>\n",
              "    <tr>\n",
              "      <th>0</th>\n",
              "      <td>7ab840dd10c9eec7ba477160c74eaff315746f5db370c9...</td>\n",
              "      <td>2021-08-28</td>\n",
              "      <td>5499</td>\n",
              "      <td>645.00</td>\n",
              "    </tr>\n",
              "    <tr>\n",
              "      <th>1</th>\n",
              "      <td>b920f5f439d996cb87ff138610bd123bcd03dae7bc4602...</td>\n",
              "      <td>2021-09-15</td>\n",
              "      <td>5921</td>\n",
              "      <td>304.56</td>\n",
              "    </tr>\n",
              "  </tbody>\n",
              "</table>\n",
              "</div>\n",
              "      <button class=\"colab-df-convert\" onclick=\"convertToInteractive('df-c2e608de-8923-4b6e-a3ff-8a5a203669d3')\"\n",
              "              title=\"Convert this dataframe to an interactive table.\"\n",
              "              style=\"display:none;\">\n",
              "        \n",
              "  <svg xmlns=\"http://www.w3.org/2000/svg\" height=\"24px\"viewBox=\"0 0 24 24\"\n",
              "       width=\"24px\">\n",
              "    <path d=\"M0 0h24v24H0V0z\" fill=\"none\"/>\n",
              "    <path d=\"M18.56 5.44l.94 2.06.94-2.06 2.06-.94-2.06-.94-.94-2.06-.94 2.06-2.06.94zm-11 1L8.5 8.5l.94-2.06 2.06-.94-2.06-.94L8.5 2.5l-.94 2.06-2.06.94zm10 10l.94 2.06.94-2.06 2.06-.94-2.06-.94-.94-2.06-.94 2.06-2.06.94z\"/><path d=\"M17.41 7.96l-1.37-1.37c-.4-.4-.92-.59-1.43-.59-.52 0-1.04.2-1.43.59L10.3 9.45l-7.72 7.72c-.78.78-.78 2.05 0 2.83L4 21.41c.39.39.9.59 1.41.59.51 0 1.02-.2 1.41-.59l7.78-7.78 2.81-2.81c.8-.78.8-2.07 0-2.86zM5.41 20L4 18.59l7.72-7.72 1.47 1.35L5.41 20z\"/>\n",
              "  </svg>\n",
              "      </button>\n",
              "      \n",
              "  <style>\n",
              "    .colab-df-container {\n",
              "      display:flex;\n",
              "      flex-wrap:wrap;\n",
              "      gap: 12px;\n",
              "    }\n",
              "\n",
              "    .colab-df-convert {\n",
              "      background-color: #E8F0FE;\n",
              "      border: none;\n",
              "      border-radius: 50%;\n",
              "      cursor: pointer;\n",
              "      display: none;\n",
              "      fill: #1967D2;\n",
              "      height: 32px;\n",
              "      padding: 0 0 0 0;\n",
              "      width: 32px;\n",
              "    }\n",
              "\n",
              "    .colab-df-convert:hover {\n",
              "      background-color: #E2EBFA;\n",
              "      box-shadow: 0px 1px 2px rgba(60, 64, 67, 0.3), 0px 1px 3px 1px rgba(60, 64, 67, 0.15);\n",
              "      fill: #174EA6;\n",
              "    }\n",
              "\n",
              "    [theme=dark] .colab-df-convert {\n",
              "      background-color: #3B4455;\n",
              "      fill: #D2E3FC;\n",
              "    }\n",
              "\n",
              "    [theme=dark] .colab-df-convert:hover {\n",
              "      background-color: #434B5C;\n",
              "      box-shadow: 0px 1px 3px 1px rgba(0, 0, 0, 0.15);\n",
              "      filter: drop-shadow(0px 1px 2px rgba(0, 0, 0, 0.3));\n",
              "      fill: #FFFFFF;\n",
              "    }\n",
              "  </style>\n",
              "\n",
              "      <script>\n",
              "        const buttonEl =\n",
              "          document.querySelector('#df-c2e608de-8923-4b6e-a3ff-8a5a203669d3 button.colab-df-convert');\n",
              "        buttonEl.style.display =\n",
              "          google.colab.kernel.accessAllowed ? 'block' : 'none';\n",
              "\n",
              "        async function convertToInteractive(key) {\n",
              "          const element = document.querySelector('#df-c2e608de-8923-4b6e-a3ff-8a5a203669d3');\n",
              "          const dataTable =\n",
              "            await google.colab.kernel.invokeFunction('convertToInteractive',\n",
              "                                                     [key], {});\n",
              "          if (!dataTable) return;\n",
              "\n",
              "          const docLinkHtml = 'Like what you see? Visit the ' +\n",
              "            '<a target=\"_blank\" href=https://colab.research.google.com/notebooks/data_table.ipynb>data table notebook</a>'\n",
              "            + ' to learn more about interactive tables.';\n",
              "          element.innerHTML = '';\n",
              "          dataTable['output_type'] = 'display_data';\n",
              "          await google.colab.output.renderOutput(dataTable, element);\n",
              "          const docLink = document.createElement('div');\n",
              "          docLink.innerHTML = docLinkHtml;\n",
              "          element.appendChild(docLink);\n",
              "        }\n",
              "      </script>\n",
              "    </div>\n",
              "  </div>\n",
              "  "
            ]
          },
          "metadata": {},
          "execution_count": 16
        }
      ]
    },
    {
      "cell_type": "code",
      "source": [
        "visa_transactions_non_particip.isnull().sum()"
      ],
      "metadata": {
        "colab": {
          "base_uri": "https://localhost:8080/"
        },
        "id": "i6Zf2DixM0Xj",
        "outputId": "ceb69a6b-5fbe-4c1d-bce7-662100686436"
      },
      "execution_count": 17,
      "outputs": [
        {
          "output_type": "execute_result",
          "data": {
            "text/plain": [
              "cust_id           0\n",
              "transaction_dt    0\n",
              "mcc_id            0\n",
              "txn_sum           0\n",
              "dtype: int64"
            ]
          },
          "metadata": {},
          "execution_count": 17
        }
      ]
    },
    {
      "cell_type": "code",
      "source": [
        "visa_transactions.head(2)"
      ],
      "metadata": {
        "colab": {
          "base_uri": "https://localhost:8080/",
          "height": 112
        },
        "id": "wRiW4waVS4yT",
        "outputId": "bd564b9b-c09b-4041-8051-5529db6cca95"
      },
      "execution_count": 18,
      "outputs": [
        {
          "output_type": "execute_result",
          "data": {
            "text/plain": [
              "                                             cust_id transaction_dt  mcc_id  \\\n",
              "0  db5e62076fad2729571f211d7ca4d5be1ba71e7563efbb...     2021-09-09    5399   \n",
              "1  9fc01d326a0adcb9caaabe298064b8a26aa711878cf89f...     2021-09-07    5533   \n",
              "\n",
              "   txn_sum  \n",
              "0   2322.0  \n",
              "1   1245.0  "
            ],
            "text/html": [
              "\n",
              "  <div id=\"df-6c732a44-6734-44d0-a546-a37b75f4d3d5\">\n",
              "    <div class=\"colab-df-container\">\n",
              "      <div>\n",
              "<style scoped>\n",
              "    .dataframe tbody tr th:only-of-type {\n",
              "        vertical-align: middle;\n",
              "    }\n",
              "\n",
              "    .dataframe tbody tr th {\n",
              "        vertical-align: top;\n",
              "    }\n",
              "\n",
              "    .dataframe thead th {\n",
              "        text-align: right;\n",
              "    }\n",
              "</style>\n",
              "<table border=\"1\" class=\"dataframe\">\n",
              "  <thead>\n",
              "    <tr style=\"text-align: right;\">\n",
              "      <th></th>\n",
              "      <th>cust_id</th>\n",
              "      <th>transaction_dt</th>\n",
              "      <th>mcc_id</th>\n",
              "      <th>txn_sum</th>\n",
              "    </tr>\n",
              "  </thead>\n",
              "  <tbody>\n",
              "    <tr>\n",
              "      <th>0</th>\n",
              "      <td>db5e62076fad2729571f211d7ca4d5be1ba71e7563efbb...</td>\n",
              "      <td>2021-09-09</td>\n",
              "      <td>5399</td>\n",
              "      <td>2322.0</td>\n",
              "    </tr>\n",
              "    <tr>\n",
              "      <th>1</th>\n",
              "      <td>9fc01d326a0adcb9caaabe298064b8a26aa711878cf89f...</td>\n",
              "      <td>2021-09-07</td>\n",
              "      <td>5533</td>\n",
              "      <td>1245.0</td>\n",
              "    </tr>\n",
              "  </tbody>\n",
              "</table>\n",
              "</div>\n",
              "      <button class=\"colab-df-convert\" onclick=\"convertToInteractive('df-6c732a44-6734-44d0-a546-a37b75f4d3d5')\"\n",
              "              title=\"Convert this dataframe to an interactive table.\"\n",
              "              style=\"display:none;\">\n",
              "        \n",
              "  <svg xmlns=\"http://www.w3.org/2000/svg\" height=\"24px\"viewBox=\"0 0 24 24\"\n",
              "       width=\"24px\">\n",
              "    <path d=\"M0 0h24v24H0V0z\" fill=\"none\"/>\n",
              "    <path d=\"M18.56 5.44l.94 2.06.94-2.06 2.06-.94-2.06-.94-.94-2.06-.94 2.06-2.06.94zm-11 1L8.5 8.5l.94-2.06 2.06-.94-2.06-.94L8.5 2.5l-.94 2.06-2.06.94zm10 10l.94 2.06.94-2.06 2.06-.94-2.06-.94-.94-2.06-.94 2.06-2.06.94z\"/><path d=\"M17.41 7.96l-1.37-1.37c-.4-.4-.92-.59-1.43-.59-.52 0-1.04.2-1.43.59L10.3 9.45l-7.72 7.72c-.78.78-.78 2.05 0 2.83L4 21.41c.39.39.9.59 1.41.59.51 0 1.02-.2 1.41-.59l7.78-7.78 2.81-2.81c.8-.78.8-2.07 0-2.86zM5.41 20L4 18.59l7.72-7.72 1.47 1.35L5.41 20z\"/>\n",
              "  </svg>\n",
              "      </button>\n",
              "      \n",
              "  <style>\n",
              "    .colab-df-container {\n",
              "      display:flex;\n",
              "      flex-wrap:wrap;\n",
              "      gap: 12px;\n",
              "    }\n",
              "\n",
              "    .colab-df-convert {\n",
              "      background-color: #E8F0FE;\n",
              "      border: none;\n",
              "      border-radius: 50%;\n",
              "      cursor: pointer;\n",
              "      display: none;\n",
              "      fill: #1967D2;\n",
              "      height: 32px;\n",
              "      padding: 0 0 0 0;\n",
              "      width: 32px;\n",
              "    }\n",
              "\n",
              "    .colab-df-convert:hover {\n",
              "      background-color: #E2EBFA;\n",
              "      box-shadow: 0px 1px 2px rgba(60, 64, 67, 0.3), 0px 1px 3px 1px rgba(60, 64, 67, 0.15);\n",
              "      fill: #174EA6;\n",
              "    }\n",
              "\n",
              "    [theme=dark] .colab-df-convert {\n",
              "      background-color: #3B4455;\n",
              "      fill: #D2E3FC;\n",
              "    }\n",
              "\n",
              "    [theme=dark] .colab-df-convert:hover {\n",
              "      background-color: #434B5C;\n",
              "      box-shadow: 0px 1px 3px 1px rgba(0, 0, 0, 0.15);\n",
              "      filter: drop-shadow(0px 1px 2px rgba(0, 0, 0, 0.3));\n",
              "      fill: #FFFFFF;\n",
              "    }\n",
              "  </style>\n",
              "\n",
              "      <script>\n",
              "        const buttonEl =\n",
              "          document.querySelector('#df-6c732a44-6734-44d0-a546-a37b75f4d3d5 button.colab-df-convert');\n",
              "        buttonEl.style.display =\n",
              "          google.colab.kernel.accessAllowed ? 'block' : 'none';\n",
              "\n",
              "        async function convertToInteractive(key) {\n",
              "          const element = document.querySelector('#df-6c732a44-6734-44d0-a546-a37b75f4d3d5');\n",
              "          const dataTable =\n",
              "            await google.colab.kernel.invokeFunction('convertToInteractive',\n",
              "                                                     [key], {});\n",
              "          if (!dataTable) return;\n",
              "\n",
              "          const docLinkHtml = 'Like what you see? Visit the ' +\n",
              "            '<a target=\"_blank\" href=https://colab.research.google.com/notebooks/data_table.ipynb>data table notebook</a>'\n",
              "            + ' to learn more about interactive tables.';\n",
              "          element.innerHTML = '';\n",
              "          dataTable['output_type'] = 'display_data';\n",
              "          await google.colab.output.renderOutput(dataTable, element);\n",
              "          const docLink = document.createElement('div');\n",
              "          docLink.innerHTML = docLinkHtml;\n",
              "          element.appendChild(docLink);\n",
              "        }\n",
              "      </script>\n",
              "    </div>\n",
              "  </div>\n",
              "  "
            ]
          },
          "metadata": {},
          "execution_count": 18
        }
      ]
    },
    {
      "cell_type": "code",
      "source": [
        "visa_transactions.isnull().sum()"
      ],
      "metadata": {
        "colab": {
          "base_uri": "https://localhost:8080/"
        },
        "id": "LkSGvN25M_Su",
        "outputId": "6f260faa-4381-477e-bc44-3305b5a277c3"
      },
      "execution_count": 19,
      "outputs": [
        {
          "output_type": "execute_result",
          "data": {
            "text/plain": [
              "cust_id           0\n",
              "transaction_dt    0\n",
              "mcc_id            0\n",
              "txn_sum           0\n",
              "dtype: int64"
            ]
          },
          "metadata": {},
          "execution_count": 19
        }
      ]
    },
    {
      "cell_type": "code",
      "source": [
        "visa_transactions.dtypes"
      ],
      "metadata": {
        "colab": {
          "base_uri": "https://localhost:8080/"
        },
        "id": "m28uEaNkI_QN",
        "outputId": "7b1ce22d-3417-4f9f-90ec-c9c95b855e1c"
      },
      "execution_count": 20,
      "outputs": [
        {
          "output_type": "execute_result",
          "data": {
            "text/plain": [
              "cust_id                   object\n",
              "transaction_dt    datetime64[ns]\n",
              "mcc_id                     int64\n",
              "txn_sum                  float64\n",
              "dtype: object"
            ]
          },
          "metadata": {},
          "execution_count": 20
        }
      ]
    },
    {
      "cell_type": "code",
      "source": [
        "visa_communications.head(2)"
      ],
      "metadata": {
        "colab": {
          "base_uri": "https://localhost:8080/",
          "height": 176
        },
        "id": "wIS6RtqqdAud",
        "outputId": "a85bfc14-a18a-407b-a00c-2da82fdc14c3"
      },
      "execution_count": 21,
      "outputs": [
        {
          "output_type": "execute_result",
          "data": {
            "text/plain": [
              "  channel_type contact_dt  control_group_flg  sent  delivered  opened  \\\n",
              "0        Popup 2021-08-23                  0     1          1       1   \n",
              "1        EMAIL 2021-08-12                  0     1          1       0   \n",
              "\n",
              "   clicked  blocked                                            cust_id  \n",
              "0        0        0  5d0a0cae173c27947838b9f3ad1282fa30771272747ede...  \n",
              "1        0        0  b70d7c45f4d1724acdba89bead5941f13d93406bcbb1d7...  "
            ],
            "text/html": [
              "\n",
              "  <div id=\"df-2fdba862-7a7b-4a2a-bb4f-5d1014771167\">\n",
              "    <div class=\"colab-df-container\">\n",
              "      <div>\n",
              "<style scoped>\n",
              "    .dataframe tbody tr th:only-of-type {\n",
              "        vertical-align: middle;\n",
              "    }\n",
              "\n",
              "    .dataframe tbody tr th {\n",
              "        vertical-align: top;\n",
              "    }\n",
              "\n",
              "    .dataframe thead th {\n",
              "        text-align: right;\n",
              "    }\n",
              "</style>\n",
              "<table border=\"1\" class=\"dataframe\">\n",
              "  <thead>\n",
              "    <tr style=\"text-align: right;\">\n",
              "      <th></th>\n",
              "      <th>channel_type</th>\n",
              "      <th>contact_dt</th>\n",
              "      <th>control_group_flg</th>\n",
              "      <th>sent</th>\n",
              "      <th>delivered</th>\n",
              "      <th>opened</th>\n",
              "      <th>clicked</th>\n",
              "      <th>blocked</th>\n",
              "      <th>cust_id</th>\n",
              "    </tr>\n",
              "  </thead>\n",
              "  <tbody>\n",
              "    <tr>\n",
              "      <th>0</th>\n",
              "      <td>Popup</td>\n",
              "      <td>2021-08-23</td>\n",
              "      <td>0</td>\n",
              "      <td>1</td>\n",
              "      <td>1</td>\n",
              "      <td>1</td>\n",
              "      <td>0</td>\n",
              "      <td>0</td>\n",
              "      <td>5d0a0cae173c27947838b9f3ad1282fa30771272747ede...</td>\n",
              "    </tr>\n",
              "    <tr>\n",
              "      <th>1</th>\n",
              "      <td>EMAIL</td>\n",
              "      <td>2021-08-12</td>\n",
              "      <td>0</td>\n",
              "      <td>1</td>\n",
              "      <td>1</td>\n",
              "      <td>0</td>\n",
              "      <td>0</td>\n",
              "      <td>0</td>\n",
              "      <td>b70d7c45f4d1724acdba89bead5941f13d93406bcbb1d7...</td>\n",
              "    </tr>\n",
              "  </tbody>\n",
              "</table>\n",
              "</div>\n",
              "      <button class=\"colab-df-convert\" onclick=\"convertToInteractive('df-2fdba862-7a7b-4a2a-bb4f-5d1014771167')\"\n",
              "              title=\"Convert this dataframe to an interactive table.\"\n",
              "              style=\"display:none;\">\n",
              "        \n",
              "  <svg xmlns=\"http://www.w3.org/2000/svg\" height=\"24px\"viewBox=\"0 0 24 24\"\n",
              "       width=\"24px\">\n",
              "    <path d=\"M0 0h24v24H0V0z\" fill=\"none\"/>\n",
              "    <path d=\"M18.56 5.44l.94 2.06.94-2.06 2.06-.94-2.06-.94-.94-2.06-.94 2.06-2.06.94zm-11 1L8.5 8.5l.94-2.06 2.06-.94-2.06-.94L8.5 2.5l-.94 2.06-2.06.94zm10 10l.94 2.06.94-2.06 2.06-.94-2.06-.94-.94-2.06-.94 2.06-2.06.94z\"/><path d=\"M17.41 7.96l-1.37-1.37c-.4-.4-.92-.59-1.43-.59-.52 0-1.04.2-1.43.59L10.3 9.45l-7.72 7.72c-.78.78-.78 2.05 0 2.83L4 21.41c.39.39.9.59 1.41.59.51 0 1.02-.2 1.41-.59l7.78-7.78 2.81-2.81c.8-.78.8-2.07 0-2.86zM5.41 20L4 18.59l7.72-7.72 1.47 1.35L5.41 20z\"/>\n",
              "  </svg>\n",
              "      </button>\n",
              "      \n",
              "  <style>\n",
              "    .colab-df-container {\n",
              "      display:flex;\n",
              "      flex-wrap:wrap;\n",
              "      gap: 12px;\n",
              "    }\n",
              "\n",
              "    .colab-df-convert {\n",
              "      background-color: #E8F0FE;\n",
              "      border: none;\n",
              "      border-radius: 50%;\n",
              "      cursor: pointer;\n",
              "      display: none;\n",
              "      fill: #1967D2;\n",
              "      height: 32px;\n",
              "      padding: 0 0 0 0;\n",
              "      width: 32px;\n",
              "    }\n",
              "\n",
              "    .colab-df-convert:hover {\n",
              "      background-color: #E2EBFA;\n",
              "      box-shadow: 0px 1px 2px rgba(60, 64, 67, 0.3), 0px 1px 3px 1px rgba(60, 64, 67, 0.15);\n",
              "      fill: #174EA6;\n",
              "    }\n",
              "\n",
              "    [theme=dark] .colab-df-convert {\n",
              "      background-color: #3B4455;\n",
              "      fill: #D2E3FC;\n",
              "    }\n",
              "\n",
              "    [theme=dark] .colab-df-convert:hover {\n",
              "      background-color: #434B5C;\n",
              "      box-shadow: 0px 1px 3px 1px rgba(0, 0, 0, 0.15);\n",
              "      filter: drop-shadow(0px 1px 2px rgba(0, 0, 0, 0.3));\n",
              "      fill: #FFFFFF;\n",
              "    }\n",
              "  </style>\n",
              "\n",
              "      <script>\n",
              "        const buttonEl =\n",
              "          document.querySelector('#df-2fdba862-7a7b-4a2a-bb4f-5d1014771167 button.colab-df-convert');\n",
              "        buttonEl.style.display =\n",
              "          google.colab.kernel.accessAllowed ? 'block' : 'none';\n",
              "\n",
              "        async function convertToInteractive(key) {\n",
              "          const element = document.querySelector('#df-2fdba862-7a7b-4a2a-bb4f-5d1014771167');\n",
              "          const dataTable =\n",
              "            await google.colab.kernel.invokeFunction('convertToInteractive',\n",
              "                                                     [key], {});\n",
              "          if (!dataTable) return;\n",
              "\n",
              "          const docLinkHtml = 'Like what you see? Visit the ' +\n",
              "            '<a target=\"_blank\" href=https://colab.research.google.com/notebooks/data_table.ipynb>data table notebook</a>'\n",
              "            + ' to learn more about interactive tables.';\n",
              "          element.innerHTML = '';\n",
              "          dataTable['output_type'] = 'display_data';\n",
              "          await google.colab.output.renderOutput(dataTable, element);\n",
              "          const docLink = document.createElement('div');\n",
              "          docLink.innerHTML = docLinkHtml;\n",
              "          element.appendChild(docLink);\n",
              "        }\n",
              "      </script>\n",
              "    </div>\n",
              "  </div>\n",
              "  "
            ]
          },
          "metadata": {},
          "execution_count": 21
        }
      ]
    },
    {
      "cell_type": "code",
      "source": [
        "card_openings.head(2)"
      ],
      "metadata": {
        "colab": {
          "base_uri": "https://localhost:8080/",
          "height": 112
        },
        "id": "KjeWw-wfdA4b",
        "outputId": "8b472e08-cb28-4e28-cea2-caf04b65c876"
      },
      "execution_count": 22,
      "outputs": [
        {
          "output_type": "execute_result",
          "data": {
            "text/plain": [
              "                                             cust_id    open_dt contact_dt\n",
              "0  2537ec14c2e5b8607ea67dfe09ec687205c59ed152407f... 2021-08-19 2021-08-12\n",
              "1  b6bc9799397f07c8304673d4d51e7788a143ecb710452e... 2021-08-16 2021-08-13"
            ],
            "text/html": [
              "\n",
              "  <div id=\"df-fad780d0-5576-4590-83fa-fc719cd81249\">\n",
              "    <div class=\"colab-df-container\">\n",
              "      <div>\n",
              "<style scoped>\n",
              "    .dataframe tbody tr th:only-of-type {\n",
              "        vertical-align: middle;\n",
              "    }\n",
              "\n",
              "    .dataframe tbody tr th {\n",
              "        vertical-align: top;\n",
              "    }\n",
              "\n",
              "    .dataframe thead th {\n",
              "        text-align: right;\n",
              "    }\n",
              "</style>\n",
              "<table border=\"1\" class=\"dataframe\">\n",
              "  <thead>\n",
              "    <tr style=\"text-align: right;\">\n",
              "      <th></th>\n",
              "      <th>cust_id</th>\n",
              "      <th>open_dt</th>\n",
              "      <th>contact_dt</th>\n",
              "    </tr>\n",
              "  </thead>\n",
              "  <tbody>\n",
              "    <tr>\n",
              "      <th>0</th>\n",
              "      <td>2537ec14c2e5b8607ea67dfe09ec687205c59ed152407f...</td>\n",
              "      <td>2021-08-19</td>\n",
              "      <td>2021-08-12</td>\n",
              "    </tr>\n",
              "    <tr>\n",
              "      <th>1</th>\n",
              "      <td>b6bc9799397f07c8304673d4d51e7788a143ecb710452e...</td>\n",
              "      <td>2021-08-16</td>\n",
              "      <td>2021-08-13</td>\n",
              "    </tr>\n",
              "  </tbody>\n",
              "</table>\n",
              "</div>\n",
              "      <button class=\"colab-df-convert\" onclick=\"convertToInteractive('df-fad780d0-5576-4590-83fa-fc719cd81249')\"\n",
              "              title=\"Convert this dataframe to an interactive table.\"\n",
              "              style=\"display:none;\">\n",
              "        \n",
              "  <svg xmlns=\"http://www.w3.org/2000/svg\" height=\"24px\"viewBox=\"0 0 24 24\"\n",
              "       width=\"24px\">\n",
              "    <path d=\"M0 0h24v24H0V0z\" fill=\"none\"/>\n",
              "    <path d=\"M18.56 5.44l.94 2.06.94-2.06 2.06-.94-2.06-.94-.94-2.06-.94 2.06-2.06.94zm-11 1L8.5 8.5l.94-2.06 2.06-.94-2.06-.94L8.5 2.5l-.94 2.06-2.06.94zm10 10l.94 2.06.94-2.06 2.06-.94-2.06-.94-.94-2.06-.94 2.06-2.06.94z\"/><path d=\"M17.41 7.96l-1.37-1.37c-.4-.4-.92-.59-1.43-.59-.52 0-1.04.2-1.43.59L10.3 9.45l-7.72 7.72c-.78.78-.78 2.05 0 2.83L4 21.41c.39.39.9.59 1.41.59.51 0 1.02-.2 1.41-.59l7.78-7.78 2.81-2.81c.8-.78.8-2.07 0-2.86zM5.41 20L4 18.59l7.72-7.72 1.47 1.35L5.41 20z\"/>\n",
              "  </svg>\n",
              "      </button>\n",
              "      \n",
              "  <style>\n",
              "    .colab-df-container {\n",
              "      display:flex;\n",
              "      flex-wrap:wrap;\n",
              "      gap: 12px;\n",
              "    }\n",
              "\n",
              "    .colab-df-convert {\n",
              "      background-color: #E8F0FE;\n",
              "      border: none;\n",
              "      border-radius: 50%;\n",
              "      cursor: pointer;\n",
              "      display: none;\n",
              "      fill: #1967D2;\n",
              "      height: 32px;\n",
              "      padding: 0 0 0 0;\n",
              "      width: 32px;\n",
              "    }\n",
              "\n",
              "    .colab-df-convert:hover {\n",
              "      background-color: #E2EBFA;\n",
              "      box-shadow: 0px 1px 2px rgba(60, 64, 67, 0.3), 0px 1px 3px 1px rgba(60, 64, 67, 0.15);\n",
              "      fill: #174EA6;\n",
              "    }\n",
              "\n",
              "    [theme=dark] .colab-df-convert {\n",
              "      background-color: #3B4455;\n",
              "      fill: #D2E3FC;\n",
              "    }\n",
              "\n",
              "    [theme=dark] .colab-df-convert:hover {\n",
              "      background-color: #434B5C;\n",
              "      box-shadow: 0px 1px 3px 1px rgba(0, 0, 0, 0.15);\n",
              "      filter: drop-shadow(0px 1px 2px rgba(0, 0, 0, 0.3));\n",
              "      fill: #FFFFFF;\n",
              "    }\n",
              "  </style>\n",
              "\n",
              "      <script>\n",
              "        const buttonEl =\n",
              "          document.querySelector('#df-fad780d0-5576-4590-83fa-fc719cd81249 button.colab-df-convert');\n",
              "        buttonEl.style.display =\n",
              "          google.colab.kernel.accessAllowed ? 'block' : 'none';\n",
              "\n",
              "        async function convertToInteractive(key) {\n",
              "          const element = document.querySelector('#df-fad780d0-5576-4590-83fa-fc719cd81249');\n",
              "          const dataTable =\n",
              "            await google.colab.kernel.invokeFunction('convertToInteractive',\n",
              "                                                     [key], {});\n",
              "          if (!dataTable) return;\n",
              "\n",
              "          const docLinkHtml = 'Like what you see? Visit the ' +\n",
              "            '<a target=\"_blank\" href=https://colab.research.google.com/notebooks/data_table.ipynb>data table notebook</a>'\n",
              "            + ' to learn more about interactive tables.';\n",
              "          element.innerHTML = '';\n",
              "          dataTable['output_type'] = 'display_data';\n",
              "          await google.colab.output.renderOutput(dataTable, element);\n",
              "          const docLink = document.createElement('div');\n",
              "          docLink.innerHTML = docLinkHtml;\n",
              "          element.appendChild(docLink);\n",
              "        }\n",
              "      </script>\n",
              "    </div>\n",
              "  </div>\n",
              "  "
            ]
          },
          "metadata": {},
          "execution_count": 22
        }
      ]
    },
    {
      "cell_type": "code",
      "source": [
        "card_openings.dtypes"
      ],
      "metadata": {
        "colab": {
          "base_uri": "https://localhost:8080/"
        },
        "id": "XLBbNLP4dBDo",
        "outputId": "7a06ebd1-6884-400d-b330-2f97ab2088db"
      },
      "execution_count": 23,
      "outputs": [
        {
          "output_type": "execute_result",
          "data": {
            "text/plain": [
              "cust_id               object\n",
              "open_dt       datetime64[ns]\n",
              "contact_dt    datetime64[ns]\n",
              "dtype: object"
            ]
          },
          "metadata": {},
          "execution_count": 23
        }
      ]
    },
    {
      "cell_type": "code",
      "source": [
        "card_openings_non_participants.head(2)"
      ],
      "metadata": {
        "colab": {
          "base_uri": "https://localhost:8080/",
          "height": 112
        },
        "id": "MNHCNLvOek_L",
        "outputId": "039c2d03-7141-4153-fc81-dc9d47358d7b"
      },
      "execution_count": 24,
      "outputs": [
        {
          "output_type": "execute_result",
          "data": {
            "text/plain": [
              "                                             cust_id    open_dt contact_dt\n",
              "0  00142a5cfe4dd6ac883e4dc0ba888d6266ce99257e0825... 2021-08-26          0\n",
              "1  00b037b74b45a2a0c9dc64b59a2587dd79dabc93e1d84b... 2021-08-12          0"
            ],
            "text/html": [
              "\n",
              "  <div id=\"df-96ecf390-c366-404c-a48f-5a6115ccd05a\">\n",
              "    <div class=\"colab-df-container\">\n",
              "      <div>\n",
              "<style scoped>\n",
              "    .dataframe tbody tr th:only-of-type {\n",
              "        vertical-align: middle;\n",
              "    }\n",
              "\n",
              "    .dataframe tbody tr th {\n",
              "        vertical-align: top;\n",
              "    }\n",
              "\n",
              "    .dataframe thead th {\n",
              "        text-align: right;\n",
              "    }\n",
              "</style>\n",
              "<table border=\"1\" class=\"dataframe\">\n",
              "  <thead>\n",
              "    <tr style=\"text-align: right;\">\n",
              "      <th></th>\n",
              "      <th>cust_id</th>\n",
              "      <th>open_dt</th>\n",
              "      <th>contact_dt</th>\n",
              "    </tr>\n",
              "  </thead>\n",
              "  <tbody>\n",
              "    <tr>\n",
              "      <th>0</th>\n",
              "      <td>00142a5cfe4dd6ac883e4dc0ba888d6266ce99257e0825...</td>\n",
              "      <td>2021-08-26</td>\n",
              "      <td>0</td>\n",
              "    </tr>\n",
              "    <tr>\n",
              "      <th>1</th>\n",
              "      <td>00b037b74b45a2a0c9dc64b59a2587dd79dabc93e1d84b...</td>\n",
              "      <td>2021-08-12</td>\n",
              "      <td>0</td>\n",
              "    </tr>\n",
              "  </tbody>\n",
              "</table>\n",
              "</div>\n",
              "      <button class=\"colab-df-convert\" onclick=\"convertToInteractive('df-96ecf390-c366-404c-a48f-5a6115ccd05a')\"\n",
              "              title=\"Convert this dataframe to an interactive table.\"\n",
              "              style=\"display:none;\">\n",
              "        \n",
              "  <svg xmlns=\"http://www.w3.org/2000/svg\" height=\"24px\"viewBox=\"0 0 24 24\"\n",
              "       width=\"24px\">\n",
              "    <path d=\"M0 0h24v24H0V0z\" fill=\"none\"/>\n",
              "    <path d=\"M18.56 5.44l.94 2.06.94-2.06 2.06-.94-2.06-.94-.94-2.06-.94 2.06-2.06.94zm-11 1L8.5 8.5l.94-2.06 2.06-.94-2.06-.94L8.5 2.5l-.94 2.06-2.06.94zm10 10l.94 2.06.94-2.06 2.06-.94-2.06-.94-.94-2.06-.94 2.06-2.06.94z\"/><path d=\"M17.41 7.96l-1.37-1.37c-.4-.4-.92-.59-1.43-.59-.52 0-1.04.2-1.43.59L10.3 9.45l-7.72 7.72c-.78.78-.78 2.05 0 2.83L4 21.41c.39.39.9.59 1.41.59.51 0 1.02-.2 1.41-.59l7.78-7.78 2.81-2.81c.8-.78.8-2.07 0-2.86zM5.41 20L4 18.59l7.72-7.72 1.47 1.35L5.41 20z\"/>\n",
              "  </svg>\n",
              "      </button>\n",
              "      \n",
              "  <style>\n",
              "    .colab-df-container {\n",
              "      display:flex;\n",
              "      flex-wrap:wrap;\n",
              "      gap: 12px;\n",
              "    }\n",
              "\n",
              "    .colab-df-convert {\n",
              "      background-color: #E8F0FE;\n",
              "      border: none;\n",
              "      border-radius: 50%;\n",
              "      cursor: pointer;\n",
              "      display: none;\n",
              "      fill: #1967D2;\n",
              "      height: 32px;\n",
              "      padding: 0 0 0 0;\n",
              "      width: 32px;\n",
              "    }\n",
              "\n",
              "    .colab-df-convert:hover {\n",
              "      background-color: #E2EBFA;\n",
              "      box-shadow: 0px 1px 2px rgba(60, 64, 67, 0.3), 0px 1px 3px 1px rgba(60, 64, 67, 0.15);\n",
              "      fill: #174EA6;\n",
              "    }\n",
              "\n",
              "    [theme=dark] .colab-df-convert {\n",
              "      background-color: #3B4455;\n",
              "      fill: #D2E3FC;\n",
              "    }\n",
              "\n",
              "    [theme=dark] .colab-df-convert:hover {\n",
              "      background-color: #434B5C;\n",
              "      box-shadow: 0px 1px 3px 1px rgba(0, 0, 0, 0.15);\n",
              "      filter: drop-shadow(0px 1px 2px rgba(0, 0, 0, 0.3));\n",
              "      fill: #FFFFFF;\n",
              "    }\n",
              "  </style>\n",
              "\n",
              "      <script>\n",
              "        const buttonEl =\n",
              "          document.querySelector('#df-96ecf390-c366-404c-a48f-5a6115ccd05a button.colab-df-convert');\n",
              "        buttonEl.style.display =\n",
              "          google.colab.kernel.accessAllowed ? 'block' : 'none';\n",
              "\n",
              "        async function convertToInteractive(key) {\n",
              "          const element = document.querySelector('#df-96ecf390-c366-404c-a48f-5a6115ccd05a');\n",
              "          const dataTable =\n",
              "            await google.colab.kernel.invokeFunction('convertToInteractive',\n",
              "                                                     [key], {});\n",
              "          if (!dataTable) return;\n",
              "\n",
              "          const docLinkHtml = 'Like what you see? Visit the ' +\n",
              "            '<a target=\"_blank\" href=https://colab.research.google.com/notebooks/data_table.ipynb>data table notebook</a>'\n",
              "            + ' to learn more about interactive tables.';\n",
              "          element.innerHTML = '';\n",
              "          dataTable['output_type'] = 'display_data';\n",
              "          await google.colab.output.renderOutput(dataTable, element);\n",
              "          const docLink = document.createElement('div');\n",
              "          docLink.innerHTML = docLinkHtml;\n",
              "          element.appendChild(docLink);\n",
              "        }\n",
              "      </script>\n",
              "    </div>\n",
              "  </div>\n",
              "  "
            ]
          },
          "metadata": {},
          "execution_count": 24
        }
      ]
    },
    {
      "cell_type": "code",
      "source": [],
      "metadata": {
        "id": "zqa4lSTjelKT"
      },
      "execution_count": 24,
      "outputs": []
    },
    {
      "cell_type": "code",
      "source": [
        "features_try2"
      ],
      "metadata": {
        "colab": {
          "base_uri": "https://localhost:8080/",
          "height": 641
        },
        "id": "Lz6clJRiFEfC",
        "outputId": "cbb57156-ac91-48bf-a376-31f09ecc28d5"
      },
      "execution_count": 25,
      "outputs": [
        {
          "output_type": "execute_result",
          "data": {
            "text/plain": [
              "                                                    cust_id    mnth_gen  \\\n",
              "0         ad767176b86d500e5b8421315731388ff6c5ec93079ec9...  2021-06-01   \n",
              "1         cc7c069e1866b0e14e6a733ecddaa9e503ebe5b422b796...  2021-06-01   \n",
              "2         914c9e80623d8fdecb0fa39662089aa78c7c076182728f...  2021-01-01   \n",
              "3         e45e78863f239d3933462c1a06a9f23727033232851fb5...  2021-04-01   \n",
              "4         2201a68b8c83f098aee50a5b787bb8344a90b2b9a64b83...  2021-07-01   \n",
              "...                                                     ...         ...   \n",
              "31418095  34428933144b435f18e5176bc03b14f9dc56c831019a8f...  2021-03-01   \n",
              "31418096  cc8478a8375cf0e3a612e25eb7d2aab47ed8bbc48a5595...  2021-02-01   \n",
              "31418097  8d7c931de1e2e81efe750252869d09733276214ce08d0f...  2021-03-01   \n",
              "31418098  a3d77caee91c8317df7d1fc8eaf4fad78c205a96ad248c...  2021-06-01   \n",
              "31418099                                                  2           0   \n",
              "\n",
              "           turnover  involve_cd client_segment                   gender age_gr  \n",
              "0          17764.83           1           MASS                        F  25-40  \n",
              "1          18817.45           1           MASS                        M  25-40  \n",
              "2          19198.74           1      MVS LIGHT                        F  25-40  \n",
              "3         114637.54           1      MVS UPPER                        F  40-60  \n",
              "4         112603.01           0      MVS LIGHT                        F  25-40  \n",
              "...             ...         ...            ...                      ...    ...  \n",
              "31418095   12145.00           0           MASS                        M  25-40  \n",
              "31418096   19949.06           1           MASS                        F  25-40  \n",
              "31418097   21599.09           1           MASS                        F  25-40  \n",
              "31418098   17685.83           1      MVS LIGHT                        F  25-40  \n",
              "31418099   18485.00      471078         489563  2021-12-02 08:13:01.863    NaN  \n",
              "\n",
              "[31418100 rows x 7 columns]"
            ],
            "text/html": [
              "\n",
              "  <div id=\"df-99afa575-43a6-4ee0-9fbd-e98b42db405d\">\n",
              "    <div class=\"colab-df-container\">\n",
              "      <div>\n",
              "<style scoped>\n",
              "    .dataframe tbody tr th:only-of-type {\n",
              "        vertical-align: middle;\n",
              "    }\n",
              "\n",
              "    .dataframe tbody tr th {\n",
              "        vertical-align: top;\n",
              "    }\n",
              "\n",
              "    .dataframe thead th {\n",
              "        text-align: right;\n",
              "    }\n",
              "</style>\n",
              "<table border=\"1\" class=\"dataframe\">\n",
              "  <thead>\n",
              "    <tr style=\"text-align: right;\">\n",
              "      <th></th>\n",
              "      <th>cust_id</th>\n",
              "      <th>mnth_gen</th>\n",
              "      <th>turnover</th>\n",
              "      <th>involve_cd</th>\n",
              "      <th>client_segment</th>\n",
              "      <th>gender</th>\n",
              "      <th>age_gr</th>\n",
              "    </tr>\n",
              "  </thead>\n",
              "  <tbody>\n",
              "    <tr>\n",
              "      <th>0</th>\n",
              "      <td>ad767176b86d500e5b8421315731388ff6c5ec93079ec9...</td>\n",
              "      <td>2021-06-01</td>\n",
              "      <td>17764.83</td>\n",
              "      <td>1</td>\n",
              "      <td>MASS</td>\n",
              "      <td>F</td>\n",
              "      <td>25-40</td>\n",
              "    </tr>\n",
              "    <tr>\n",
              "      <th>1</th>\n",
              "      <td>cc7c069e1866b0e14e6a733ecddaa9e503ebe5b422b796...</td>\n",
              "      <td>2021-06-01</td>\n",
              "      <td>18817.45</td>\n",
              "      <td>1</td>\n",
              "      <td>MASS</td>\n",
              "      <td>M</td>\n",
              "      <td>25-40</td>\n",
              "    </tr>\n",
              "    <tr>\n",
              "      <th>2</th>\n",
              "      <td>914c9e80623d8fdecb0fa39662089aa78c7c076182728f...</td>\n",
              "      <td>2021-01-01</td>\n",
              "      <td>19198.74</td>\n",
              "      <td>1</td>\n",
              "      <td>MVS LIGHT</td>\n",
              "      <td>F</td>\n",
              "      <td>25-40</td>\n",
              "    </tr>\n",
              "    <tr>\n",
              "      <th>3</th>\n",
              "      <td>e45e78863f239d3933462c1a06a9f23727033232851fb5...</td>\n",
              "      <td>2021-04-01</td>\n",
              "      <td>114637.54</td>\n",
              "      <td>1</td>\n",
              "      <td>MVS UPPER</td>\n",
              "      <td>F</td>\n",
              "      <td>40-60</td>\n",
              "    </tr>\n",
              "    <tr>\n",
              "      <th>4</th>\n",
              "      <td>2201a68b8c83f098aee50a5b787bb8344a90b2b9a64b83...</td>\n",
              "      <td>2021-07-01</td>\n",
              "      <td>112603.01</td>\n",
              "      <td>0</td>\n",
              "      <td>MVS LIGHT</td>\n",
              "      <td>F</td>\n",
              "      <td>25-40</td>\n",
              "    </tr>\n",
              "    <tr>\n",
              "      <th>...</th>\n",
              "      <td>...</td>\n",
              "      <td>...</td>\n",
              "      <td>...</td>\n",
              "      <td>...</td>\n",
              "      <td>...</td>\n",
              "      <td>...</td>\n",
              "      <td>...</td>\n",
              "    </tr>\n",
              "    <tr>\n",
              "      <th>31418095</th>\n",
              "      <td>34428933144b435f18e5176bc03b14f9dc56c831019a8f...</td>\n",
              "      <td>2021-03-01</td>\n",
              "      <td>12145.00</td>\n",
              "      <td>0</td>\n",
              "      <td>MASS</td>\n",
              "      <td>M</td>\n",
              "      <td>25-40</td>\n",
              "    </tr>\n",
              "    <tr>\n",
              "      <th>31418096</th>\n",
              "      <td>cc8478a8375cf0e3a612e25eb7d2aab47ed8bbc48a5595...</td>\n",
              "      <td>2021-02-01</td>\n",
              "      <td>19949.06</td>\n",
              "      <td>1</td>\n",
              "      <td>MASS</td>\n",
              "      <td>F</td>\n",
              "      <td>25-40</td>\n",
              "    </tr>\n",
              "    <tr>\n",
              "      <th>31418097</th>\n",
              "      <td>8d7c931de1e2e81efe750252869d09733276214ce08d0f...</td>\n",
              "      <td>2021-03-01</td>\n",
              "      <td>21599.09</td>\n",
              "      <td>1</td>\n",
              "      <td>MASS</td>\n",
              "      <td>F</td>\n",
              "      <td>25-40</td>\n",
              "    </tr>\n",
              "    <tr>\n",
              "      <th>31418098</th>\n",
              "      <td>a3d77caee91c8317df7d1fc8eaf4fad78c205a96ad248c...</td>\n",
              "      <td>2021-06-01</td>\n",
              "      <td>17685.83</td>\n",
              "      <td>1</td>\n",
              "      <td>MVS LIGHT</td>\n",
              "      <td>F</td>\n",
              "      <td>25-40</td>\n",
              "    </tr>\n",
              "    <tr>\n",
              "      <th>31418099</th>\n",
              "      <td>2</td>\n",
              "      <td>0</td>\n",
              "      <td>18485.00</td>\n",
              "      <td>471078</td>\n",
              "      <td>489563</td>\n",
              "      <td>2021-12-02 08:13:01.863</td>\n",
              "      <td>NaN</td>\n",
              "    </tr>\n",
              "  </tbody>\n",
              "</table>\n",
              "<p>31418100 rows × 7 columns</p>\n",
              "</div>\n",
              "      <button class=\"colab-df-convert\" onclick=\"convertToInteractive('df-99afa575-43a6-4ee0-9fbd-e98b42db405d')\"\n",
              "              title=\"Convert this dataframe to an interactive table.\"\n",
              "              style=\"display:none;\">\n",
              "        \n",
              "  <svg xmlns=\"http://www.w3.org/2000/svg\" height=\"24px\"viewBox=\"0 0 24 24\"\n",
              "       width=\"24px\">\n",
              "    <path d=\"M0 0h24v24H0V0z\" fill=\"none\"/>\n",
              "    <path d=\"M18.56 5.44l.94 2.06.94-2.06 2.06-.94-2.06-.94-.94-2.06-.94 2.06-2.06.94zm-11 1L8.5 8.5l.94-2.06 2.06-.94-2.06-.94L8.5 2.5l-.94 2.06-2.06.94zm10 10l.94 2.06.94-2.06 2.06-.94-2.06-.94-.94-2.06-.94 2.06-2.06.94z\"/><path d=\"M17.41 7.96l-1.37-1.37c-.4-.4-.92-.59-1.43-.59-.52 0-1.04.2-1.43.59L10.3 9.45l-7.72 7.72c-.78.78-.78 2.05 0 2.83L4 21.41c.39.39.9.59 1.41.59.51 0 1.02-.2 1.41-.59l7.78-7.78 2.81-2.81c.8-.78.8-2.07 0-2.86zM5.41 20L4 18.59l7.72-7.72 1.47 1.35L5.41 20z\"/>\n",
              "  </svg>\n",
              "      </button>\n",
              "      \n",
              "  <style>\n",
              "    .colab-df-container {\n",
              "      display:flex;\n",
              "      flex-wrap:wrap;\n",
              "      gap: 12px;\n",
              "    }\n",
              "\n",
              "    .colab-df-convert {\n",
              "      background-color: #E8F0FE;\n",
              "      border: none;\n",
              "      border-radius: 50%;\n",
              "      cursor: pointer;\n",
              "      display: none;\n",
              "      fill: #1967D2;\n",
              "      height: 32px;\n",
              "      padding: 0 0 0 0;\n",
              "      width: 32px;\n",
              "    }\n",
              "\n",
              "    .colab-df-convert:hover {\n",
              "      background-color: #E2EBFA;\n",
              "      box-shadow: 0px 1px 2px rgba(60, 64, 67, 0.3), 0px 1px 3px 1px rgba(60, 64, 67, 0.15);\n",
              "      fill: #174EA6;\n",
              "    }\n",
              "\n",
              "    [theme=dark] .colab-df-convert {\n",
              "      background-color: #3B4455;\n",
              "      fill: #D2E3FC;\n",
              "    }\n",
              "\n",
              "    [theme=dark] .colab-df-convert:hover {\n",
              "      background-color: #434B5C;\n",
              "      box-shadow: 0px 1px 3px 1px rgba(0, 0, 0, 0.15);\n",
              "      filter: drop-shadow(0px 1px 2px rgba(0, 0, 0, 0.3));\n",
              "      fill: #FFFFFF;\n",
              "    }\n",
              "  </style>\n",
              "\n",
              "      <script>\n",
              "        const buttonEl =\n",
              "          document.querySelector('#df-99afa575-43a6-4ee0-9fbd-e98b42db405d button.colab-df-convert');\n",
              "        buttonEl.style.display =\n",
              "          google.colab.kernel.accessAllowed ? 'block' : 'none';\n",
              "\n",
              "        async function convertToInteractive(key) {\n",
              "          const element = document.querySelector('#df-99afa575-43a6-4ee0-9fbd-e98b42db405d');\n",
              "          const dataTable =\n",
              "            await google.colab.kernel.invokeFunction('convertToInteractive',\n",
              "                                                     [key], {});\n",
              "          if (!dataTable) return;\n",
              "\n",
              "          const docLinkHtml = 'Like what you see? Visit the ' +\n",
              "            '<a target=\"_blank\" href=https://colab.research.google.com/notebooks/data_table.ipynb>data table notebook</a>'\n",
              "            + ' to learn more about interactive tables.';\n",
              "          element.innerHTML = '';\n",
              "          dataTable['output_type'] = 'display_data';\n",
              "          await google.colab.output.renderOutput(dataTable, element);\n",
              "          const docLink = document.createElement('div');\n",
              "          docLink.innerHTML = docLinkHtml;\n",
              "          element.appendChild(docLink);\n",
              "        }\n",
              "      </script>\n",
              "    </div>\n",
              "  </div>\n",
              "  "
            ]
          },
          "metadata": {},
          "execution_count": 25
        }
      ]
    },
    {
      "cell_type": "code",
      "source": [
        "features_try2.dtypes"
      ],
      "metadata": {
        "id": "cPr04dAZHENr",
        "colab": {
          "base_uri": "https://localhost:8080/"
        },
        "outputId": "405a7bce-bca0-431e-aafd-fae7fe73e0c6"
      },
      "execution_count": 26,
      "outputs": [
        {
          "output_type": "execute_result",
          "data": {
            "text/plain": [
              "cust_id            object\n",
              "mnth_gen           object\n",
              "turnover          float64\n",
              "involve_cd          int64\n",
              "client_segment     object\n",
              "gender             object\n",
              "age_gr             object\n",
              "dtype: object"
            ]
          },
          "metadata": {},
          "execution_count": 26
        }
      ]
    },
    {
      "cell_type": "code",
      "source": [
        "features_try2['mnth_gen'] = pd.to_datetime(features_try2['mnth_gen'], errors='coerce')"
      ],
      "metadata": {
        "id": "pSLuAnv3bDCR"
      },
      "execution_count": 27,
      "outputs": []
    },
    {
      "cell_type": "code",
      "source": [
        "features_try2.dtypes"
      ],
      "metadata": {
        "colab": {
          "base_uri": "https://localhost:8080/"
        },
        "id": "hjy3YspkbeA9",
        "outputId": "61d6224a-4988-45fc-b542-1c4b1ada3d64"
      },
      "execution_count": 28,
      "outputs": [
        {
          "output_type": "execute_result",
          "data": {
            "text/plain": [
              "cust_id                   object\n",
              "mnth_gen          datetime64[ns]\n",
              "turnover                 float64\n",
              "involve_cd                 int64\n",
              "client_segment            object\n",
              "gender                    object\n",
              "age_gr                    object\n",
              "dtype: object"
            ]
          },
          "metadata": {},
          "execution_count": 28
        }
      ]
    },
    {
      "cell_type": "markdown",
      "source": [],
      "metadata": {
        "id": "4v69pjLqGzRg"
      }
    },
    {
      "cell_type": "markdown",
      "source": [
        "# Key indicators for the campaign and funnel \n"
      ],
      "metadata": {
        "id": "iblQUdqkG_8X"
      }
    },
    {
      "cell_type": "code",
      "source": [],
      "metadata": {
        "id": "kz3Dj5pQHELQ"
      },
      "execution_count": null,
      "outputs": []
    },
    {
      "cell_type": "markdown",
      "source": [
        "The key indicators chosen for measuring the effectiveness of the email campaign are the following:\n",
        "\n",
        "\n",
        "*   the open rate\n",
        "*   click rate\n",
        "\n",
        "\n",
        "*   click to open rate\n",
        "*   conversion rate\n",
        "\n",
        "\n",
        "\n",
        "\n",
        "\n",
        "\n",
        "\n",
        "\n"
      ],
      "metadata": {
        "id": "kIm6aMFbHOnf"
      }
    },
    {
      "cell_type": "markdown",
      "source": [
        "##We will first calculate the open rate of the campaign"
      ],
      "metadata": {
        "id": "k2J_wM9_JInP"
      }
    },
    {
      "cell_type": "markdown",
      "source": [
        "We will calculate first the open rate by dividing the number of customers who opened the email to the number of customers who got the email.\n",
        "Since we have in our data a difference between sent and delivered, we are going to calculate:\n",
        "\n",
        "\n",
        "*   nbr of customers who opened the email / sent \n",
        "*   nbr of customers who opened the email / sent and delivered\n",
        "\n"
      ],
      "metadata": {
        "id": "zlr9L2LVL3Nh"
      }
    },
    {
      "cell_type": "markdown",
      "source": [
        "Number of customers who opened the email:"
      ],
      "metadata": {
        "id": "ovRABXs7OHUL"
      }
    },
    {
      "cell_type": "code",
      "source": [
        "count_opened = len(visa_communications[(visa_communications['opened']== 1) & (visa_communications['control_group_flg']== 0)])\n",
        "\n",
        "print(count_opened)"
      ],
      "metadata": {
        "id": "IkYFgEYWHEJF",
        "colab": {
          "base_uri": "https://localhost:8080/"
        },
        "outputId": "8bc285ef-b076-4bb2-9c51-65da6ee172ad"
      },
      "execution_count": 29,
      "outputs": [
        {
          "output_type": "stream",
          "name": "stdout",
          "text": [
            "317045\n"
          ]
        }
      ]
    },
    {
      "cell_type": "markdown",
      "source": [
        "Number of customers to whom emails were sent:"
      ],
      "metadata": {
        "id": "PsdnQZ2tSh7v"
      }
    },
    {
      "cell_type": "code",
      "source": [
        "count_sent = len(visa_communications[(visa_communications['sent']== 1) & (visa_communications['control_group_flg']== 0)])"
      ],
      "metadata": {
        "id": "MgLgPkcvSblu"
      },
      "execution_count": 30,
      "outputs": []
    },
    {
      "cell_type": "code",
      "source": [
        "print(count_sent)"
      ],
      "metadata": {
        "colab": {
          "base_uri": "https://localhost:8080/"
        },
        "id": "acQENkKYSd2F",
        "outputId": "474754c1-4f4f-4202-c835-4483243e19ff"
      },
      "execution_count": 31,
      "outputs": [
        {
          "output_type": "stream",
          "name": "stdout",
          "text": [
            "821051\n"
          ]
        }
      ]
    },
    {
      "cell_type": "markdown",
      "source": [
        "Number of customers to whom the emails were sent and who received it:"
      ],
      "metadata": {
        "id": "XkqbM-xdWvkw"
      }
    },
    {
      "cell_type": "code",
      "source": [
        "count_sent_delivered = len(visa_communications[(visa_communications['sent']==1) & (visa_communications['delivered']==1) & (visa_communications['control_group_flg']== 0)])\n",
        "\n",
        "print(count_sent_delivered)"
      ],
      "metadata": {
        "colab": {
          "base_uri": "https://localhost:8080/"
        },
        "id": "nYUsbLKySdhr",
        "outputId": "db632748-4a28-45ee-b5cd-3bfe062ae8ff"
      },
      "execution_count": 32,
      "outputs": [
        {
          "output_type": "stream",
          "name": "stdout",
          "text": [
            "788582\n"
          ]
        }
      ]
    },
    {
      "cell_type": "markdown",
      "source": [
        "The open rate for customers to whom the email was sent is:"
      ],
      "metadata": {
        "id": "gKwhb0H6ZSho"
      }
    },
    {
      "cell_type": "code",
      "source": [
        "open_rate1 = count_opened / count_sent \n",
        "\n",
        "print(open_rate1)"
      ],
      "metadata": {
        "colab": {
          "base_uri": "https://localhost:8080/"
        },
        "id": "_jyaVTa_SdWU",
        "outputId": "4b658ee4-36b7-400c-d86c-80866ccdc40b"
      },
      "execution_count": 33,
      "outputs": [
        {
          "output_type": "stream",
          "name": "stdout",
          "text": [
            "0.3861453186221075\n"
          ]
        }
      ]
    },
    {
      "cell_type": "markdown",
      "source": [
        "The open rate for customers to whom the email was sent and who received it is:"
      ],
      "metadata": {
        "id": "eOnmzjO6Z525"
      }
    },
    {
      "cell_type": "code",
      "source": [
        "open_rate2 = count_opened / count_sent_delivered\n",
        "\n",
        "print(open_rate2)"
      ],
      "metadata": {
        "colab": {
          "base_uri": "https://localhost:8080/"
        },
        "id": "kTJ4o3HRSdJc",
        "outputId": "ae5b46db-d1ca-46d6-89eb-1f52d4bafea3"
      },
      "execution_count": 34,
      "outputs": [
        {
          "output_type": "stream",
          "name": "stdout",
          "text": [
            "0.40204442911453725\n"
          ]
        }
      ]
    },
    {
      "cell_type": "markdown",
      "source": [
        "##We will then calculate the click rate of the email campaign\n"
      ],
      "metadata": {
        "id": "QrAxPzDmcdGs"
      }
    },
    {
      "cell_type": "markdown",
      "source": [
        "The number of customers who clicked the action button in the email:"
      ],
      "metadata": {
        "id": "7RiQkYqOeLUV"
      }
    },
    {
      "cell_type": "code",
      "source": [
        "count_clicked = len(visa_communications[(visa_communications['clicked']== 1) & (visa_communications['control_group_flg']== 0)])\n",
        "\n",
        "print(count_clicked)"
      ],
      "metadata": {
        "colab": {
          "base_uri": "https://localhost:8080/"
        },
        "id": "4e32bbLKbbXO",
        "outputId": "d7ed949d-8a9e-4054-dfe6-0aa739551e9f"
      },
      "execution_count": 35,
      "outputs": [
        {
          "output_type": "stream",
          "name": "stdout",
          "text": [
            "24398\n"
          ]
        }
      ]
    },
    {
      "cell_type": "markdown",
      "source": [
        "We will calculate the click rate for customers to whom the email was sent and customers to whom to email was sent and who received the email"
      ],
      "metadata": {
        "id": "j5gN-ZTvhWPA"
      }
    },
    {
      "cell_type": "code",
      "source": [
        "click_rate1 = count_clicked / count_sent \n",
        "\n",
        "print(click_rate1)"
      ],
      "metadata": {
        "colab": {
          "base_uri": "https://localhost:8080/"
        },
        "id": "LhNUPIa-bbTY",
        "outputId": "68d128c3-f08c-4470-b2f3-253642f9ddcb"
      },
      "execution_count": 36,
      "outputs": [
        {
          "output_type": "stream",
          "name": "stdout",
          "text": [
            "0.029715571870687692\n"
          ]
        }
      ]
    },
    {
      "cell_type": "code",
      "source": [
        "click_rate2 = count_clicked / count_sent_delivered \n",
        "\n",
        "print(click_rate2)"
      ],
      "metadata": {
        "colab": {
          "base_uri": "https://localhost:8080/"
        },
        "id": "pFaneV5ZbbPr",
        "outputId": "e4a25006-1740-4818-f9f4-97935ed9003e"
      },
      "execution_count": 37,
      "outputs": [
        {
          "output_type": "stream",
          "name": "stdout",
          "text": [
            "0.03093907799062114\n"
          ]
        }
      ]
    },
    {
      "cell_type": "markdown",
      "source": [
        "##We will now calculate the click to open rate"
      ],
      "metadata": {
        "id": "wh1-829RhJQM"
      }
    },
    {
      "cell_type": "markdown",
      "source": [
        "the click to open rate is:"
      ],
      "metadata": {
        "id": "dFnMFlwnhlMo"
      }
    },
    {
      "cell_type": "code",
      "source": [
        "click_to_open_rate = count_clicked / count_opened \n",
        "\n",
        "print(click_to_open_rate)"
      ],
      "metadata": {
        "colab": {
          "base_uri": "https://localhost:8080/"
        },
        "id": "Tr9quWUFbbLj",
        "outputId": "bc0d0fe3-b782-4d48-c12c-487883ea659c"
      },
      "execution_count": 38,
      "outputs": [
        {
          "output_type": "stream",
          "name": "stdout",
          "text": [
            "0.07695437556182876\n"
          ]
        }
      ]
    },
    {
      "cell_type": "markdown",
      "source": [
        "##We will finally calculate the conversion rate"
      ],
      "metadata": {
        "id": "s4R4KoRxjCDb"
      }
    },
    {
      "cell_type": "markdown",
      "source": [
        "The key action being opening an account, we will calculate first the number of customers who opened an account"
      ],
      "metadata": {
        "id": "b1rlRO28jg7f"
      }
    },
    {
      "cell_type": "code",
      "source": [
        "count_new_customers = len(card_openings.index)\n",
        "\n",
        "print(count_new_customers)"
      ],
      "metadata": {
        "colab": {
          "base_uri": "https://localhost:8080/"
        },
        "id": "pRY3J5GWbbGU",
        "outputId": "2b402a99-3334-4d9d-c1bf-e4565bfbaa72"
      },
      "execution_count": 39,
      "outputs": [
        {
          "output_type": "stream",
          "name": "stdout",
          "text": [
            "22995\n"
          ]
        }
      ]
    },
    {
      "cell_type": "markdown",
      "source": [
        "The conversion rate will then be:"
      ],
      "metadata": {
        "id": "1-BVi4BhlLkk"
      }
    },
    {
      "cell_type": "code",
      "source": [
        "conversion_rate1 = count_new_customers / count_sent \n",
        "\n",
        "print(conversion_rate1)"
      ],
      "metadata": {
        "colab": {
          "base_uri": "https://localhost:8080/"
        },
        "id": "k46pzSZAbawE",
        "outputId": "b839e672-76c8-4e27-d94b-db0ed5ab84f7"
      },
      "execution_count": 40,
      "outputs": [
        {
          "output_type": "stream",
          "name": "stdout",
          "text": [
            "0.028006786423742252\n"
          ]
        }
      ]
    },
    {
      "cell_type": "code",
      "source": [
        "conversion_rate2 = count_new_customers / count_sent_delivered\n",
        "\n",
        "print(conversion_rate2)"
      ],
      "metadata": {
        "colab": {
          "base_uri": "https://localhost:8080/"
        },
        "id": "jaTOJrJZlcwF",
        "outputId": "59f14fc8-3f2a-459c-a45f-c5346db421fd"
      },
      "execution_count": 41,
      "outputs": [
        {
          "output_type": "stream",
          "name": "stdout",
          "text": [
            "0.029159935174782076\n"
          ]
        }
      ]
    },
    {
      "cell_type": "markdown",
      "source": [
        "\n",
        "\n",
        "```\n",
        "# This is formatted as code\n",
        "```\n",
        "\n",
        "**synthetic_control_group**\n"
      ],
      "metadata": {
        "id": "zJsMCE4DKrRi"
      }
    },
    {
      "cell_type": "code",
      "source": [
        "SCG = twins_base.rename(columns = {'synthetic_control_group_cust_id':\n",
        "                              'cust_id'})"
      ],
      "metadata": {
        "id": "5DhWQH9rHEFK"
      },
      "execution_count": 42,
      "outputs": []
    },
    {
      "cell_type": "markdown",
      "source": [
        "Rename Coulm to cust_id to join with other tables cust_id\n"
      ],
      "metadata": {
        "id": "ze9zE30_9puP"
      }
    },
    {
      "cell_type": "code",
      "source": [
        "SCG.head(10)"
      ],
      "metadata": {
        "colab": {
          "base_uri": "https://localhost:8080/",
          "height": 363
        },
        "id": "-JLSlcYZxwsr",
        "outputId": "9f58ab3b-9b28-414d-ba81-b8c0740c44ff"
      },
      "execution_count": 43,
      "outputs": [
        {
          "output_type": "execute_result",
          "data": {
            "text/plain": [
              "                                          tg_cust_id  \\\n",
              "0  0002389bfab4bb945654b5b3ac7441e2c634e6062fc780...   \n",
              "1  0003e193ac559ca40490de7e059116752e4e621366ba2c...   \n",
              "2  000bcd2b9a9baba21d919252a67b4a72d73ee6b666aac3...   \n",
              "3  000f349449114fbb293ba4cb4f8efb48adaebd7aade67b...   \n",
              "4  0011c3bb53e4f73534edf3e922abae44ccc1333ba9a7b3...   \n",
              "5  0012ccd36d40318d069262fe24f1a688c3fcc5124553b3...   \n",
              "6  0016c22079f535fd1ff3c555f8be94186d2760033fbfc1...   \n",
              "7  00181c0d9d5922c7bbd976386784a36a089fd22048f8a2...   \n",
              "8  001dd18a2701c5b0683431e143534c77fff5bb424ee242...   \n",
              "9  001f0f21433f276b33b566ff9f6cef0f6b16d21c23d559...   \n",
              "\n",
              "                                             cust_id  \n",
              "0  1b5e8227cdc3e41b8159684a4ca09c6107cebc2b92630e...  \n",
              "1  b3433e2f2b7eb77ffb9806e7ad9ebbeb2d119d2bdf1682...  \n",
              "2  9e5ed7736baad40b61b4c86534ddf6d608da8f718c8b6b...  \n",
              "3  125eeca73effdac0d44004de3ee7720556d2fe3a30f58f...  \n",
              "4  bb08bea34c22a12e8c8209b84717fb8906b2c978316933...  \n",
              "5  1da6cbae1ad2026c487fa1eb2a89def99efa08399b566a...  \n",
              "6  6b8a5e8708d27176f86e33afc756b32ca58714b8177587...  \n",
              "7  d0a3415065445544e96da3a412627679eb7ae2524891c1...  \n",
              "8  757f118bea0c71ab0eb1e56a38369980ae8752275b6f68...  \n",
              "9  16ed2dfb07e64b98c392617c0cf8e6c28bbf1f7f3c05e8...  "
            ],
            "text/html": [
              "\n",
              "  <div id=\"df-24dd4a1a-fd4e-4466-9cda-1aa849d095e6\">\n",
              "    <div class=\"colab-df-container\">\n",
              "      <div>\n",
              "<style scoped>\n",
              "    .dataframe tbody tr th:only-of-type {\n",
              "        vertical-align: middle;\n",
              "    }\n",
              "\n",
              "    .dataframe tbody tr th {\n",
              "        vertical-align: top;\n",
              "    }\n",
              "\n",
              "    .dataframe thead th {\n",
              "        text-align: right;\n",
              "    }\n",
              "</style>\n",
              "<table border=\"1\" class=\"dataframe\">\n",
              "  <thead>\n",
              "    <tr style=\"text-align: right;\">\n",
              "      <th></th>\n",
              "      <th>tg_cust_id</th>\n",
              "      <th>cust_id</th>\n",
              "    </tr>\n",
              "  </thead>\n",
              "  <tbody>\n",
              "    <tr>\n",
              "      <th>0</th>\n",
              "      <td>0002389bfab4bb945654b5b3ac7441e2c634e6062fc780...</td>\n",
              "      <td>1b5e8227cdc3e41b8159684a4ca09c6107cebc2b92630e...</td>\n",
              "    </tr>\n",
              "    <tr>\n",
              "      <th>1</th>\n",
              "      <td>0003e193ac559ca40490de7e059116752e4e621366ba2c...</td>\n",
              "      <td>b3433e2f2b7eb77ffb9806e7ad9ebbeb2d119d2bdf1682...</td>\n",
              "    </tr>\n",
              "    <tr>\n",
              "      <th>2</th>\n",
              "      <td>000bcd2b9a9baba21d919252a67b4a72d73ee6b666aac3...</td>\n",
              "      <td>9e5ed7736baad40b61b4c86534ddf6d608da8f718c8b6b...</td>\n",
              "    </tr>\n",
              "    <tr>\n",
              "      <th>3</th>\n",
              "      <td>000f349449114fbb293ba4cb4f8efb48adaebd7aade67b...</td>\n",
              "      <td>125eeca73effdac0d44004de3ee7720556d2fe3a30f58f...</td>\n",
              "    </tr>\n",
              "    <tr>\n",
              "      <th>4</th>\n",
              "      <td>0011c3bb53e4f73534edf3e922abae44ccc1333ba9a7b3...</td>\n",
              "      <td>bb08bea34c22a12e8c8209b84717fb8906b2c978316933...</td>\n",
              "    </tr>\n",
              "    <tr>\n",
              "      <th>5</th>\n",
              "      <td>0012ccd36d40318d069262fe24f1a688c3fcc5124553b3...</td>\n",
              "      <td>1da6cbae1ad2026c487fa1eb2a89def99efa08399b566a...</td>\n",
              "    </tr>\n",
              "    <tr>\n",
              "      <th>6</th>\n",
              "      <td>0016c22079f535fd1ff3c555f8be94186d2760033fbfc1...</td>\n",
              "      <td>6b8a5e8708d27176f86e33afc756b32ca58714b8177587...</td>\n",
              "    </tr>\n",
              "    <tr>\n",
              "      <th>7</th>\n",
              "      <td>00181c0d9d5922c7bbd976386784a36a089fd22048f8a2...</td>\n",
              "      <td>d0a3415065445544e96da3a412627679eb7ae2524891c1...</td>\n",
              "    </tr>\n",
              "    <tr>\n",
              "      <th>8</th>\n",
              "      <td>001dd18a2701c5b0683431e143534c77fff5bb424ee242...</td>\n",
              "      <td>757f118bea0c71ab0eb1e56a38369980ae8752275b6f68...</td>\n",
              "    </tr>\n",
              "    <tr>\n",
              "      <th>9</th>\n",
              "      <td>001f0f21433f276b33b566ff9f6cef0f6b16d21c23d559...</td>\n",
              "      <td>16ed2dfb07e64b98c392617c0cf8e6c28bbf1f7f3c05e8...</td>\n",
              "    </tr>\n",
              "  </tbody>\n",
              "</table>\n",
              "</div>\n",
              "      <button class=\"colab-df-convert\" onclick=\"convertToInteractive('df-24dd4a1a-fd4e-4466-9cda-1aa849d095e6')\"\n",
              "              title=\"Convert this dataframe to an interactive table.\"\n",
              "              style=\"display:none;\">\n",
              "        \n",
              "  <svg xmlns=\"http://www.w3.org/2000/svg\" height=\"24px\"viewBox=\"0 0 24 24\"\n",
              "       width=\"24px\">\n",
              "    <path d=\"M0 0h24v24H0V0z\" fill=\"none\"/>\n",
              "    <path d=\"M18.56 5.44l.94 2.06.94-2.06 2.06-.94-2.06-.94-.94-2.06-.94 2.06-2.06.94zm-11 1L8.5 8.5l.94-2.06 2.06-.94-2.06-.94L8.5 2.5l-.94 2.06-2.06.94zm10 10l.94 2.06.94-2.06 2.06-.94-2.06-.94-.94-2.06-.94 2.06-2.06.94z\"/><path d=\"M17.41 7.96l-1.37-1.37c-.4-.4-.92-.59-1.43-.59-.52 0-1.04.2-1.43.59L10.3 9.45l-7.72 7.72c-.78.78-.78 2.05 0 2.83L4 21.41c.39.39.9.59 1.41.59.51 0 1.02-.2 1.41-.59l7.78-7.78 2.81-2.81c.8-.78.8-2.07 0-2.86zM5.41 20L4 18.59l7.72-7.72 1.47 1.35L5.41 20z\"/>\n",
              "  </svg>\n",
              "      </button>\n",
              "      \n",
              "  <style>\n",
              "    .colab-df-container {\n",
              "      display:flex;\n",
              "      flex-wrap:wrap;\n",
              "      gap: 12px;\n",
              "    }\n",
              "\n",
              "    .colab-df-convert {\n",
              "      background-color: #E8F0FE;\n",
              "      border: none;\n",
              "      border-radius: 50%;\n",
              "      cursor: pointer;\n",
              "      display: none;\n",
              "      fill: #1967D2;\n",
              "      height: 32px;\n",
              "      padding: 0 0 0 0;\n",
              "      width: 32px;\n",
              "    }\n",
              "\n",
              "    .colab-df-convert:hover {\n",
              "      background-color: #E2EBFA;\n",
              "      box-shadow: 0px 1px 2px rgba(60, 64, 67, 0.3), 0px 1px 3px 1px rgba(60, 64, 67, 0.15);\n",
              "      fill: #174EA6;\n",
              "    }\n",
              "\n",
              "    [theme=dark] .colab-df-convert {\n",
              "      background-color: #3B4455;\n",
              "      fill: #D2E3FC;\n",
              "    }\n",
              "\n",
              "    [theme=dark] .colab-df-convert:hover {\n",
              "      background-color: #434B5C;\n",
              "      box-shadow: 0px 1px 3px 1px rgba(0, 0, 0, 0.15);\n",
              "      filter: drop-shadow(0px 1px 2px rgba(0, 0, 0, 0.3));\n",
              "      fill: #FFFFFF;\n",
              "    }\n",
              "  </style>\n",
              "\n",
              "      <script>\n",
              "        const buttonEl =\n",
              "          document.querySelector('#df-24dd4a1a-fd4e-4466-9cda-1aa849d095e6 button.colab-df-convert');\n",
              "        buttonEl.style.display =\n",
              "          google.colab.kernel.accessAllowed ? 'block' : 'none';\n",
              "\n",
              "        async function convertToInteractive(key) {\n",
              "          const element = document.querySelector('#df-24dd4a1a-fd4e-4466-9cda-1aa849d095e6');\n",
              "          const dataTable =\n",
              "            await google.colab.kernel.invokeFunction('convertToInteractive',\n",
              "                                                     [key], {});\n",
              "          if (!dataTable) return;\n",
              "\n",
              "          const docLinkHtml = 'Like what you see? Visit the ' +\n",
              "            '<a target=\"_blank\" href=https://colab.research.google.com/notebooks/data_table.ipynb>data table notebook</a>'\n",
              "            + ' to learn more about interactive tables.';\n",
              "          element.innerHTML = '';\n",
              "          dataTable['output_type'] = 'display_data';\n",
              "          await google.colab.output.renderOutput(dataTable, element);\n",
              "          const docLink = document.createElement('div');\n",
              "          docLink.innerHTML = docLinkHtml;\n",
              "          element.appendChild(docLink);\n",
              "        }\n",
              "      </script>\n",
              "    </div>\n",
              "  </div>\n",
              "  "
            ]
          },
          "metadata": {},
          "execution_count": 43
        }
      ]
    },
    {
      "cell_type": "markdown",
      "source": [
        "droped the targeted customers colum"
      ],
      "metadata": {
        "id": "CFHUSOMt91FH"
      }
    },
    {
      "cell_type": "code",
      "source": [
        "SCG1= SCG.drop(\"tg_cust_id\",axis=1)"
      ],
      "metadata": {
        "id": "iSDKgAv55SK6"
      },
      "execution_count": 44,
      "outputs": []
    },
    {
      "cell_type": "code",
      "source": [
        "SCG1.head(5)"
      ],
      "metadata": {
        "colab": {
          "base_uri": "https://localhost:8080/",
          "height": 206
        },
        "id": "4mlduCW76X__",
        "outputId": "256a8ef5-1456-47f1-c886-4b16631e8426"
      },
      "execution_count": 45,
      "outputs": [
        {
          "output_type": "execute_result",
          "data": {
            "text/plain": [
              "                                             cust_id\n",
              "0  1b5e8227cdc3e41b8159684a4ca09c6107cebc2b92630e...\n",
              "1  b3433e2f2b7eb77ffb9806e7ad9ebbeb2d119d2bdf1682...\n",
              "2  9e5ed7736baad40b61b4c86534ddf6d608da8f718c8b6b...\n",
              "3  125eeca73effdac0d44004de3ee7720556d2fe3a30f58f...\n",
              "4  bb08bea34c22a12e8c8209b84717fb8906b2c978316933..."
            ],
            "text/html": [
              "\n",
              "  <div id=\"df-6fd7a990-32c0-4b58-9485-c899509202ab\">\n",
              "    <div class=\"colab-df-container\">\n",
              "      <div>\n",
              "<style scoped>\n",
              "    .dataframe tbody tr th:only-of-type {\n",
              "        vertical-align: middle;\n",
              "    }\n",
              "\n",
              "    .dataframe tbody tr th {\n",
              "        vertical-align: top;\n",
              "    }\n",
              "\n",
              "    .dataframe thead th {\n",
              "        text-align: right;\n",
              "    }\n",
              "</style>\n",
              "<table border=\"1\" class=\"dataframe\">\n",
              "  <thead>\n",
              "    <tr style=\"text-align: right;\">\n",
              "      <th></th>\n",
              "      <th>cust_id</th>\n",
              "    </tr>\n",
              "  </thead>\n",
              "  <tbody>\n",
              "    <tr>\n",
              "      <th>0</th>\n",
              "      <td>1b5e8227cdc3e41b8159684a4ca09c6107cebc2b92630e...</td>\n",
              "    </tr>\n",
              "    <tr>\n",
              "      <th>1</th>\n",
              "      <td>b3433e2f2b7eb77ffb9806e7ad9ebbeb2d119d2bdf1682...</td>\n",
              "    </tr>\n",
              "    <tr>\n",
              "      <th>2</th>\n",
              "      <td>9e5ed7736baad40b61b4c86534ddf6d608da8f718c8b6b...</td>\n",
              "    </tr>\n",
              "    <tr>\n",
              "      <th>3</th>\n",
              "      <td>125eeca73effdac0d44004de3ee7720556d2fe3a30f58f...</td>\n",
              "    </tr>\n",
              "    <tr>\n",
              "      <th>4</th>\n",
              "      <td>bb08bea34c22a12e8c8209b84717fb8906b2c978316933...</td>\n",
              "    </tr>\n",
              "  </tbody>\n",
              "</table>\n",
              "</div>\n",
              "      <button class=\"colab-df-convert\" onclick=\"convertToInteractive('df-6fd7a990-32c0-4b58-9485-c899509202ab')\"\n",
              "              title=\"Convert this dataframe to an interactive table.\"\n",
              "              style=\"display:none;\">\n",
              "        \n",
              "  <svg xmlns=\"http://www.w3.org/2000/svg\" height=\"24px\"viewBox=\"0 0 24 24\"\n",
              "       width=\"24px\">\n",
              "    <path d=\"M0 0h24v24H0V0z\" fill=\"none\"/>\n",
              "    <path d=\"M18.56 5.44l.94 2.06.94-2.06 2.06-.94-2.06-.94-.94-2.06-.94 2.06-2.06.94zm-11 1L8.5 8.5l.94-2.06 2.06-.94-2.06-.94L8.5 2.5l-.94 2.06-2.06.94zm10 10l.94 2.06.94-2.06 2.06-.94-2.06-.94-.94-2.06-.94 2.06-2.06.94z\"/><path d=\"M17.41 7.96l-1.37-1.37c-.4-.4-.92-.59-1.43-.59-.52 0-1.04.2-1.43.59L10.3 9.45l-7.72 7.72c-.78.78-.78 2.05 0 2.83L4 21.41c.39.39.9.59 1.41.59.51 0 1.02-.2 1.41-.59l7.78-7.78 2.81-2.81c.8-.78.8-2.07 0-2.86zM5.41 20L4 18.59l7.72-7.72 1.47 1.35L5.41 20z\"/>\n",
              "  </svg>\n",
              "      </button>\n",
              "      \n",
              "  <style>\n",
              "    .colab-df-container {\n",
              "      display:flex;\n",
              "      flex-wrap:wrap;\n",
              "      gap: 12px;\n",
              "    }\n",
              "\n",
              "    .colab-df-convert {\n",
              "      background-color: #E8F0FE;\n",
              "      border: none;\n",
              "      border-radius: 50%;\n",
              "      cursor: pointer;\n",
              "      display: none;\n",
              "      fill: #1967D2;\n",
              "      height: 32px;\n",
              "      padding: 0 0 0 0;\n",
              "      width: 32px;\n",
              "    }\n",
              "\n",
              "    .colab-df-convert:hover {\n",
              "      background-color: #E2EBFA;\n",
              "      box-shadow: 0px 1px 2px rgba(60, 64, 67, 0.3), 0px 1px 3px 1px rgba(60, 64, 67, 0.15);\n",
              "      fill: #174EA6;\n",
              "    }\n",
              "\n",
              "    [theme=dark] .colab-df-convert {\n",
              "      background-color: #3B4455;\n",
              "      fill: #D2E3FC;\n",
              "    }\n",
              "\n",
              "    [theme=dark] .colab-df-convert:hover {\n",
              "      background-color: #434B5C;\n",
              "      box-shadow: 0px 1px 3px 1px rgba(0, 0, 0, 0.15);\n",
              "      filter: drop-shadow(0px 1px 2px rgba(0, 0, 0, 0.3));\n",
              "      fill: #FFFFFF;\n",
              "    }\n",
              "  </style>\n",
              "\n",
              "      <script>\n",
              "        const buttonEl =\n",
              "          document.querySelector('#df-6fd7a990-32c0-4b58-9485-c899509202ab button.colab-df-convert');\n",
              "        buttonEl.style.display =\n",
              "          google.colab.kernel.accessAllowed ? 'block' : 'none';\n",
              "\n",
              "        async function convertToInteractive(key) {\n",
              "          const element = document.querySelector('#df-6fd7a990-32c0-4b58-9485-c899509202ab');\n",
              "          const dataTable =\n",
              "            await google.colab.kernel.invokeFunction('convertToInteractive',\n",
              "                                                     [key], {});\n",
              "          if (!dataTable) return;\n",
              "\n",
              "          const docLinkHtml = 'Like what you see? Visit the ' +\n",
              "            '<a target=\"_blank\" href=https://colab.research.google.com/notebooks/data_table.ipynb>data table notebook</a>'\n",
              "            + ' to learn more about interactive tables.';\n",
              "          element.innerHTML = '';\n",
              "          dataTable['output_type'] = 'display_data';\n",
              "          await google.colab.output.renderOutput(dataTable, element);\n",
              "          const docLink = document.createElement('div');\n",
              "          docLink.innerHTML = docLinkHtml;\n",
              "          element.appendChild(docLink);\n",
              "        }\n",
              "      </script>\n",
              "    </div>\n",
              "  </div>\n",
              "  "
            ]
          },
          "metadata": {},
          "execution_count": 45
        }
      ]
    },
    {
      "cell_type": "markdown",
      "source": [
        "Joined with visa_communications  "
      ],
      "metadata": {
        "id": "jnk2sYov98Gv"
      }
    },
    {
      "cell_type": "code",
      "source": [
        "sGroup = SCG1.merge(visa_communications, how='left')"
      ],
      "metadata": {
        "id": "J9MALT3ax8Gv"
      },
      "execution_count": 46,
      "outputs": []
    },
    {
      "cell_type": "code",
      "source": [
        "sGroup.head()"
      ],
      "metadata": {
        "colab": {
          "base_uri": "https://localhost:8080/",
          "height": 270
        },
        "id": "1cxbyH4u36ow",
        "outputId": "eee2af47-411a-4b8e-d250-487024b37b31"
      },
      "execution_count": 47,
      "outputs": [
        {
          "output_type": "execute_result",
          "data": {
            "text/plain": [
              "                                             cust_id channel_type contact_dt  \\\n",
              "0  1b5e8227cdc3e41b8159684a4ca09c6107cebc2b92630e...          NaN        NaT   \n",
              "1  b3433e2f2b7eb77ffb9806e7ad9ebbeb2d119d2bdf1682...          NaN        NaT   \n",
              "2  9e5ed7736baad40b61b4c86534ddf6d608da8f718c8b6b...          NaN        NaT   \n",
              "3  125eeca73effdac0d44004de3ee7720556d2fe3a30f58f...          NaN        NaT   \n",
              "4  bb08bea34c22a12e8c8209b84717fb8906b2c978316933...          NaN        NaT   \n",
              "\n",
              "   control_group_flg  sent  delivered  opened  clicked  blocked  \n",
              "0                NaN   NaN        NaN     NaN      NaN      NaN  \n",
              "1                NaN   NaN        NaN     NaN      NaN      NaN  \n",
              "2                NaN   NaN        NaN     NaN      NaN      NaN  \n",
              "3                NaN   NaN        NaN     NaN      NaN      NaN  \n",
              "4                NaN   NaN        NaN     NaN      NaN      NaN  "
            ],
            "text/html": [
              "\n",
              "  <div id=\"df-24dedbef-d345-4d06-8199-516d34817f7f\">\n",
              "    <div class=\"colab-df-container\">\n",
              "      <div>\n",
              "<style scoped>\n",
              "    .dataframe tbody tr th:only-of-type {\n",
              "        vertical-align: middle;\n",
              "    }\n",
              "\n",
              "    .dataframe tbody tr th {\n",
              "        vertical-align: top;\n",
              "    }\n",
              "\n",
              "    .dataframe thead th {\n",
              "        text-align: right;\n",
              "    }\n",
              "</style>\n",
              "<table border=\"1\" class=\"dataframe\">\n",
              "  <thead>\n",
              "    <tr style=\"text-align: right;\">\n",
              "      <th></th>\n",
              "      <th>cust_id</th>\n",
              "      <th>channel_type</th>\n",
              "      <th>contact_dt</th>\n",
              "      <th>control_group_flg</th>\n",
              "      <th>sent</th>\n",
              "      <th>delivered</th>\n",
              "      <th>opened</th>\n",
              "      <th>clicked</th>\n",
              "      <th>blocked</th>\n",
              "    </tr>\n",
              "  </thead>\n",
              "  <tbody>\n",
              "    <tr>\n",
              "      <th>0</th>\n",
              "      <td>1b5e8227cdc3e41b8159684a4ca09c6107cebc2b92630e...</td>\n",
              "      <td>NaN</td>\n",
              "      <td>NaT</td>\n",
              "      <td>NaN</td>\n",
              "      <td>NaN</td>\n",
              "      <td>NaN</td>\n",
              "      <td>NaN</td>\n",
              "      <td>NaN</td>\n",
              "      <td>NaN</td>\n",
              "    </tr>\n",
              "    <tr>\n",
              "      <th>1</th>\n",
              "      <td>b3433e2f2b7eb77ffb9806e7ad9ebbeb2d119d2bdf1682...</td>\n",
              "      <td>NaN</td>\n",
              "      <td>NaT</td>\n",
              "      <td>NaN</td>\n",
              "      <td>NaN</td>\n",
              "      <td>NaN</td>\n",
              "      <td>NaN</td>\n",
              "      <td>NaN</td>\n",
              "      <td>NaN</td>\n",
              "    </tr>\n",
              "    <tr>\n",
              "      <th>2</th>\n",
              "      <td>9e5ed7736baad40b61b4c86534ddf6d608da8f718c8b6b...</td>\n",
              "      <td>NaN</td>\n",
              "      <td>NaT</td>\n",
              "      <td>NaN</td>\n",
              "      <td>NaN</td>\n",
              "      <td>NaN</td>\n",
              "      <td>NaN</td>\n",
              "      <td>NaN</td>\n",
              "      <td>NaN</td>\n",
              "    </tr>\n",
              "    <tr>\n",
              "      <th>3</th>\n",
              "      <td>125eeca73effdac0d44004de3ee7720556d2fe3a30f58f...</td>\n",
              "      <td>NaN</td>\n",
              "      <td>NaT</td>\n",
              "      <td>NaN</td>\n",
              "      <td>NaN</td>\n",
              "      <td>NaN</td>\n",
              "      <td>NaN</td>\n",
              "      <td>NaN</td>\n",
              "      <td>NaN</td>\n",
              "    </tr>\n",
              "    <tr>\n",
              "      <th>4</th>\n",
              "      <td>bb08bea34c22a12e8c8209b84717fb8906b2c978316933...</td>\n",
              "      <td>NaN</td>\n",
              "      <td>NaT</td>\n",
              "      <td>NaN</td>\n",
              "      <td>NaN</td>\n",
              "      <td>NaN</td>\n",
              "      <td>NaN</td>\n",
              "      <td>NaN</td>\n",
              "      <td>NaN</td>\n",
              "    </tr>\n",
              "  </tbody>\n",
              "</table>\n",
              "</div>\n",
              "      <button class=\"colab-df-convert\" onclick=\"convertToInteractive('df-24dedbef-d345-4d06-8199-516d34817f7f')\"\n",
              "              title=\"Convert this dataframe to an interactive table.\"\n",
              "              style=\"display:none;\">\n",
              "        \n",
              "  <svg xmlns=\"http://www.w3.org/2000/svg\" height=\"24px\"viewBox=\"0 0 24 24\"\n",
              "       width=\"24px\">\n",
              "    <path d=\"M0 0h24v24H0V0z\" fill=\"none\"/>\n",
              "    <path d=\"M18.56 5.44l.94 2.06.94-2.06 2.06-.94-2.06-.94-.94-2.06-.94 2.06-2.06.94zm-11 1L8.5 8.5l.94-2.06 2.06-.94-2.06-.94L8.5 2.5l-.94 2.06-2.06.94zm10 10l.94 2.06.94-2.06 2.06-.94-2.06-.94-.94-2.06-.94 2.06-2.06.94z\"/><path d=\"M17.41 7.96l-1.37-1.37c-.4-.4-.92-.59-1.43-.59-.52 0-1.04.2-1.43.59L10.3 9.45l-7.72 7.72c-.78.78-.78 2.05 0 2.83L4 21.41c.39.39.9.59 1.41.59.51 0 1.02-.2 1.41-.59l7.78-7.78 2.81-2.81c.8-.78.8-2.07 0-2.86zM5.41 20L4 18.59l7.72-7.72 1.47 1.35L5.41 20z\"/>\n",
              "  </svg>\n",
              "      </button>\n",
              "      \n",
              "  <style>\n",
              "    .colab-df-container {\n",
              "      display:flex;\n",
              "      flex-wrap:wrap;\n",
              "      gap: 12px;\n",
              "    }\n",
              "\n",
              "    .colab-df-convert {\n",
              "      background-color: #E8F0FE;\n",
              "      border: none;\n",
              "      border-radius: 50%;\n",
              "      cursor: pointer;\n",
              "      display: none;\n",
              "      fill: #1967D2;\n",
              "      height: 32px;\n",
              "      padding: 0 0 0 0;\n",
              "      width: 32px;\n",
              "    }\n",
              "\n",
              "    .colab-df-convert:hover {\n",
              "      background-color: #E2EBFA;\n",
              "      box-shadow: 0px 1px 2px rgba(60, 64, 67, 0.3), 0px 1px 3px 1px rgba(60, 64, 67, 0.15);\n",
              "      fill: #174EA6;\n",
              "    }\n",
              "\n",
              "    [theme=dark] .colab-df-convert {\n",
              "      background-color: #3B4455;\n",
              "      fill: #D2E3FC;\n",
              "    }\n",
              "\n",
              "    [theme=dark] .colab-df-convert:hover {\n",
              "      background-color: #434B5C;\n",
              "      box-shadow: 0px 1px 3px 1px rgba(0, 0, 0, 0.15);\n",
              "      filter: drop-shadow(0px 1px 2px rgba(0, 0, 0, 0.3));\n",
              "      fill: #FFFFFF;\n",
              "    }\n",
              "  </style>\n",
              "\n",
              "      <script>\n",
              "        const buttonEl =\n",
              "          document.querySelector('#df-24dedbef-d345-4d06-8199-516d34817f7f button.colab-df-convert');\n",
              "        buttonEl.style.display =\n",
              "          google.colab.kernel.accessAllowed ? 'block' : 'none';\n",
              "\n",
              "        async function convertToInteractive(key) {\n",
              "          const element = document.querySelector('#df-24dedbef-d345-4d06-8199-516d34817f7f');\n",
              "          const dataTable =\n",
              "            await google.colab.kernel.invokeFunction('convertToInteractive',\n",
              "                                                     [key], {});\n",
              "          if (!dataTable) return;\n",
              "\n",
              "          const docLinkHtml = 'Like what you see? Visit the ' +\n",
              "            '<a target=\"_blank\" href=https://colab.research.google.com/notebooks/data_table.ipynb>data table notebook</a>'\n",
              "            + ' to learn more about interactive tables.';\n",
              "          element.innerHTML = '';\n",
              "          dataTable['output_type'] = 'display_data';\n",
              "          await google.colab.output.renderOutput(dataTable, element);\n",
              "          const docLink = document.createElement('div');\n",
              "          docLink.innerHTML = docLinkHtml;\n",
              "          element.appendChild(docLink);\n",
              "        }\n",
              "      </script>\n",
              "    </div>\n",
              "  </div>\n",
              "  "
            ]
          },
          "metadata": {},
          "execution_count": 47
        }
      ]
    },
    {
      "cell_type": "markdown",
      "source": [
        "droped all NaN values "
      ],
      "metadata": {
        "id": "Ug0O7gXh-FGD"
      }
    },
    {
      "cell_type": "code",
      "source": [
        "sGroup1=sGroup.dropna()"
      ],
      "metadata": {
        "id": "ixynMA6j9RpA"
      },
      "execution_count": 48,
      "outputs": []
    },
    {
      "cell_type": "code",
      "source": [
        "sGroup1.head()"
      ],
      "metadata": {
        "colab": {
          "base_uri": "https://localhost:8080/",
          "height": 270
        },
        "id": "O2_YmeTL9ZqT",
        "outputId": "b5ddc701-8050-428a-a8de-883eb1318ad2"
      },
      "execution_count": 49,
      "outputs": [
        {
          "output_type": "execute_result",
          "data": {
            "text/plain": [
              "                                               cust_id channel_type  \\\n",
              "462  d8a2405b3edca67c724aaeeb9d2f0b412372f33239a61e...         PUSH   \n",
              "555  8b8ab846881cd13021805769555c47671ed0cb5be42af8...         PUSH   \n",
              "758  d6e580b20741d77c3ea0217c5d48b01acf21909646ccab...         PUSH   \n",
              "811  4d2d2aba43428c87498897b420f4ccf9dcc9b3616847ed...         PUSH   \n",
              "922  20f03fa1f250cea48b27d753c8903797847cc840735f3f...        EMAIL   \n",
              "\n",
              "    contact_dt  control_group_flg  sent  delivered  opened  clicked  blocked  \n",
              "462 2021-08-12                1.0   0.0        0.0     0.0      0.0      0.0  \n",
              "555 2021-08-12                1.0   0.0        0.0     0.0      0.0      0.0  \n",
              "758 2021-08-12                1.0   0.0        0.0     0.0      0.0      0.0  \n",
              "811 2021-08-12                1.0   0.0        0.0     0.0      0.0      0.0  \n",
              "922 2021-08-12                1.0   0.0        0.0     0.0      0.0      0.0  "
            ],
            "text/html": [
              "\n",
              "  <div id=\"df-20f4e065-7300-45b2-8248-dec7d02f635f\">\n",
              "    <div class=\"colab-df-container\">\n",
              "      <div>\n",
              "<style scoped>\n",
              "    .dataframe tbody tr th:only-of-type {\n",
              "        vertical-align: middle;\n",
              "    }\n",
              "\n",
              "    .dataframe tbody tr th {\n",
              "        vertical-align: top;\n",
              "    }\n",
              "\n",
              "    .dataframe thead th {\n",
              "        text-align: right;\n",
              "    }\n",
              "</style>\n",
              "<table border=\"1\" class=\"dataframe\">\n",
              "  <thead>\n",
              "    <tr style=\"text-align: right;\">\n",
              "      <th></th>\n",
              "      <th>cust_id</th>\n",
              "      <th>channel_type</th>\n",
              "      <th>contact_dt</th>\n",
              "      <th>control_group_flg</th>\n",
              "      <th>sent</th>\n",
              "      <th>delivered</th>\n",
              "      <th>opened</th>\n",
              "      <th>clicked</th>\n",
              "      <th>blocked</th>\n",
              "    </tr>\n",
              "  </thead>\n",
              "  <tbody>\n",
              "    <tr>\n",
              "      <th>462</th>\n",
              "      <td>d8a2405b3edca67c724aaeeb9d2f0b412372f33239a61e...</td>\n",
              "      <td>PUSH</td>\n",
              "      <td>2021-08-12</td>\n",
              "      <td>1.0</td>\n",
              "      <td>0.0</td>\n",
              "      <td>0.0</td>\n",
              "      <td>0.0</td>\n",
              "      <td>0.0</td>\n",
              "      <td>0.0</td>\n",
              "    </tr>\n",
              "    <tr>\n",
              "      <th>555</th>\n",
              "      <td>8b8ab846881cd13021805769555c47671ed0cb5be42af8...</td>\n",
              "      <td>PUSH</td>\n",
              "      <td>2021-08-12</td>\n",
              "      <td>1.0</td>\n",
              "      <td>0.0</td>\n",
              "      <td>0.0</td>\n",
              "      <td>0.0</td>\n",
              "      <td>0.0</td>\n",
              "      <td>0.0</td>\n",
              "    </tr>\n",
              "    <tr>\n",
              "      <th>758</th>\n",
              "      <td>d6e580b20741d77c3ea0217c5d48b01acf21909646ccab...</td>\n",
              "      <td>PUSH</td>\n",
              "      <td>2021-08-12</td>\n",
              "      <td>1.0</td>\n",
              "      <td>0.0</td>\n",
              "      <td>0.0</td>\n",
              "      <td>0.0</td>\n",
              "      <td>0.0</td>\n",
              "      <td>0.0</td>\n",
              "    </tr>\n",
              "    <tr>\n",
              "      <th>811</th>\n",
              "      <td>4d2d2aba43428c87498897b420f4ccf9dcc9b3616847ed...</td>\n",
              "      <td>PUSH</td>\n",
              "      <td>2021-08-12</td>\n",
              "      <td>1.0</td>\n",
              "      <td>0.0</td>\n",
              "      <td>0.0</td>\n",
              "      <td>0.0</td>\n",
              "      <td>0.0</td>\n",
              "      <td>0.0</td>\n",
              "    </tr>\n",
              "    <tr>\n",
              "      <th>922</th>\n",
              "      <td>20f03fa1f250cea48b27d753c8903797847cc840735f3f...</td>\n",
              "      <td>EMAIL</td>\n",
              "      <td>2021-08-12</td>\n",
              "      <td>1.0</td>\n",
              "      <td>0.0</td>\n",
              "      <td>0.0</td>\n",
              "      <td>0.0</td>\n",
              "      <td>0.0</td>\n",
              "      <td>0.0</td>\n",
              "    </tr>\n",
              "  </tbody>\n",
              "</table>\n",
              "</div>\n",
              "      <button class=\"colab-df-convert\" onclick=\"convertToInteractive('df-20f4e065-7300-45b2-8248-dec7d02f635f')\"\n",
              "              title=\"Convert this dataframe to an interactive table.\"\n",
              "              style=\"display:none;\">\n",
              "        \n",
              "  <svg xmlns=\"http://www.w3.org/2000/svg\" height=\"24px\"viewBox=\"0 0 24 24\"\n",
              "       width=\"24px\">\n",
              "    <path d=\"M0 0h24v24H0V0z\" fill=\"none\"/>\n",
              "    <path d=\"M18.56 5.44l.94 2.06.94-2.06 2.06-.94-2.06-.94-.94-2.06-.94 2.06-2.06.94zm-11 1L8.5 8.5l.94-2.06 2.06-.94-2.06-.94L8.5 2.5l-.94 2.06-2.06.94zm10 10l.94 2.06.94-2.06 2.06-.94-2.06-.94-.94-2.06-.94 2.06-2.06.94z\"/><path d=\"M17.41 7.96l-1.37-1.37c-.4-.4-.92-.59-1.43-.59-.52 0-1.04.2-1.43.59L10.3 9.45l-7.72 7.72c-.78.78-.78 2.05 0 2.83L4 21.41c.39.39.9.59 1.41.59.51 0 1.02-.2 1.41-.59l7.78-7.78 2.81-2.81c.8-.78.8-2.07 0-2.86zM5.41 20L4 18.59l7.72-7.72 1.47 1.35L5.41 20z\"/>\n",
              "  </svg>\n",
              "      </button>\n",
              "      \n",
              "  <style>\n",
              "    .colab-df-container {\n",
              "      display:flex;\n",
              "      flex-wrap:wrap;\n",
              "      gap: 12px;\n",
              "    }\n",
              "\n",
              "    .colab-df-convert {\n",
              "      background-color: #E8F0FE;\n",
              "      border: none;\n",
              "      border-radius: 50%;\n",
              "      cursor: pointer;\n",
              "      display: none;\n",
              "      fill: #1967D2;\n",
              "      height: 32px;\n",
              "      padding: 0 0 0 0;\n",
              "      width: 32px;\n",
              "    }\n",
              "\n",
              "    .colab-df-convert:hover {\n",
              "      background-color: #E2EBFA;\n",
              "      box-shadow: 0px 1px 2px rgba(60, 64, 67, 0.3), 0px 1px 3px 1px rgba(60, 64, 67, 0.15);\n",
              "      fill: #174EA6;\n",
              "    }\n",
              "\n",
              "    [theme=dark] .colab-df-convert {\n",
              "      background-color: #3B4455;\n",
              "      fill: #D2E3FC;\n",
              "    }\n",
              "\n",
              "    [theme=dark] .colab-df-convert:hover {\n",
              "      background-color: #434B5C;\n",
              "      box-shadow: 0px 1px 3px 1px rgba(0, 0, 0, 0.15);\n",
              "      filter: drop-shadow(0px 1px 2px rgba(0, 0, 0, 0.3));\n",
              "      fill: #FFFFFF;\n",
              "    }\n",
              "  </style>\n",
              "\n",
              "      <script>\n",
              "        const buttonEl =\n",
              "          document.querySelector('#df-20f4e065-7300-45b2-8248-dec7d02f635f button.colab-df-convert');\n",
              "        buttonEl.style.display =\n",
              "          google.colab.kernel.accessAllowed ? 'block' : 'none';\n",
              "\n",
              "        async function convertToInteractive(key) {\n",
              "          const element = document.querySelector('#df-20f4e065-7300-45b2-8248-dec7d02f635f');\n",
              "          const dataTable =\n",
              "            await google.colab.kernel.invokeFunction('convertToInteractive',\n",
              "                                                     [key], {});\n",
              "          if (!dataTable) return;\n",
              "\n",
              "          const docLinkHtml = 'Like what you see? Visit the ' +\n",
              "            '<a target=\"_blank\" href=https://colab.research.google.com/notebooks/data_table.ipynb>data table notebook</a>'\n",
              "            + ' to learn more about interactive tables.';\n",
              "          element.innerHTML = '';\n",
              "          dataTable['output_type'] = 'display_data';\n",
              "          await google.colab.output.renderOutput(dataTable, element);\n",
              "          const docLink = document.createElement('div');\n",
              "          docLink.innerHTML = docLinkHtml;\n",
              "          element.appendChild(docLink);\n",
              "        }\n",
              "      </script>\n",
              "    </div>\n",
              "  </div>\n",
              "  "
            ]
          },
          "metadata": {},
          "execution_count": 49
        }
      ]
    },
    {
      "cell_type": "code",
      "source": [
        "sGroup1.count()"
      ],
      "metadata": {
        "id": "4pO06Z-YIRdQ",
        "outputId": "a6f9a3ea-521d-463b-a173-6a8c70c29380",
        "colab": {
          "base_uri": "https://localhost:8080/"
        }
      },
      "execution_count": 50,
      "outputs": [
        {
          "output_type": "execute_result",
          "data": {
            "text/plain": [
              "cust_id              6300\n",
              "channel_type         6300\n",
              "contact_dt           6300\n",
              "control_group_flg    6300\n",
              "sent                 6300\n",
              "delivered            6300\n",
              "opened               6300\n",
              "clicked              6300\n",
              "blocked              6300\n",
              "dtype: int64"
            ]
          },
          "metadata": {},
          "execution_count": 50
        }
      ]
    },
    {
      "cell_type": "code",
      "source": [
        "sGroup2= sGroup1.merge(visa_transactions_non_particip, how='left')"
      ],
      "metadata": {
        "id": "tf-tuEGNI3Oa"
      },
      "execution_count": 51,
      "outputs": []
    },
    {
      "cell_type": "code",
      "source": [
        "sGroup3=sGroup2.dropna()"
      ],
      "metadata": {
        "id": "B3RVutV9LDZj"
      },
      "execution_count": 52,
      "outputs": []
    },
    {
      "cell_type": "code",
      "source": [
        "sGroup3.head()"
      ],
      "metadata": {
        "colab": {
          "base_uri": "https://localhost:8080/",
          "height": 270
        },
        "id": "pz-9cXpRLLrW",
        "outputId": "2c376018-7dbf-4973-d387-481a953f0450"
      },
      "execution_count": 53,
      "outputs": [
        {
          "output_type": "execute_result",
          "data": {
            "text/plain": [
              "                                              cust_id channel_type contact_dt  \\\n",
              "19  66e8c2121bff02c77920eebb2173f4ec96dfa68bd00a91...        EMAIL 2021-08-13   \n",
              "20  66e8c2121bff02c77920eebb2173f4ec96dfa68bd00a91...        EMAIL 2021-08-13   \n",
              "21  66e8c2121bff02c77920eebb2173f4ec96dfa68bd00a91...        EMAIL 2021-08-13   \n",
              "22  66e8c2121bff02c77920eebb2173f4ec96dfa68bd00a91...        EMAIL 2021-08-13   \n",
              "23  66e8c2121bff02c77920eebb2173f4ec96dfa68bd00a91...        EMAIL 2021-08-13   \n",
              "\n",
              "    control_group_flg  sent  delivered  opened  clicked  blocked  \\\n",
              "19                1.0   0.0        0.0     0.0      0.0      0.0   \n",
              "20                1.0   0.0        0.0     0.0      0.0      0.0   \n",
              "21                1.0   0.0        0.0     0.0      0.0      0.0   \n",
              "22                1.0   0.0        0.0     0.0      0.0      0.0   \n",
              "23                1.0   0.0        0.0     0.0      0.0      0.0   \n",
              "\n",
              "   transaction_dt  mcc_id  txn_sum  \n",
              "19     2021-09-05  5499.0   200.00  \n",
              "20     2021-09-05  5411.0   368.94  \n",
              "21     2021-08-29  5411.0   688.70  \n",
              "22     2021-09-05  5131.0  3933.00  \n",
              "23     2021-08-20  5441.0    25.00  "
            ],
            "text/html": [
              "\n",
              "  <div id=\"df-d8f6db26-f7ff-4211-b3d4-7f271aa259a6\">\n",
              "    <div class=\"colab-df-container\">\n",
              "      <div>\n",
              "<style scoped>\n",
              "    .dataframe tbody tr th:only-of-type {\n",
              "        vertical-align: middle;\n",
              "    }\n",
              "\n",
              "    .dataframe tbody tr th {\n",
              "        vertical-align: top;\n",
              "    }\n",
              "\n",
              "    .dataframe thead th {\n",
              "        text-align: right;\n",
              "    }\n",
              "</style>\n",
              "<table border=\"1\" class=\"dataframe\">\n",
              "  <thead>\n",
              "    <tr style=\"text-align: right;\">\n",
              "      <th></th>\n",
              "      <th>cust_id</th>\n",
              "      <th>channel_type</th>\n",
              "      <th>contact_dt</th>\n",
              "      <th>control_group_flg</th>\n",
              "      <th>sent</th>\n",
              "      <th>delivered</th>\n",
              "      <th>opened</th>\n",
              "      <th>clicked</th>\n",
              "      <th>blocked</th>\n",
              "      <th>transaction_dt</th>\n",
              "      <th>mcc_id</th>\n",
              "      <th>txn_sum</th>\n",
              "    </tr>\n",
              "  </thead>\n",
              "  <tbody>\n",
              "    <tr>\n",
              "      <th>19</th>\n",
              "      <td>66e8c2121bff02c77920eebb2173f4ec96dfa68bd00a91...</td>\n",
              "      <td>EMAIL</td>\n",
              "      <td>2021-08-13</td>\n",
              "      <td>1.0</td>\n",
              "      <td>0.0</td>\n",
              "      <td>0.0</td>\n",
              "      <td>0.0</td>\n",
              "      <td>0.0</td>\n",
              "      <td>0.0</td>\n",
              "      <td>2021-09-05</td>\n",
              "      <td>5499.0</td>\n",
              "      <td>200.00</td>\n",
              "    </tr>\n",
              "    <tr>\n",
              "      <th>20</th>\n",
              "      <td>66e8c2121bff02c77920eebb2173f4ec96dfa68bd00a91...</td>\n",
              "      <td>EMAIL</td>\n",
              "      <td>2021-08-13</td>\n",
              "      <td>1.0</td>\n",
              "      <td>0.0</td>\n",
              "      <td>0.0</td>\n",
              "      <td>0.0</td>\n",
              "      <td>0.0</td>\n",
              "      <td>0.0</td>\n",
              "      <td>2021-09-05</td>\n",
              "      <td>5411.0</td>\n",
              "      <td>368.94</td>\n",
              "    </tr>\n",
              "    <tr>\n",
              "      <th>21</th>\n",
              "      <td>66e8c2121bff02c77920eebb2173f4ec96dfa68bd00a91...</td>\n",
              "      <td>EMAIL</td>\n",
              "      <td>2021-08-13</td>\n",
              "      <td>1.0</td>\n",
              "      <td>0.0</td>\n",
              "      <td>0.0</td>\n",
              "      <td>0.0</td>\n",
              "      <td>0.0</td>\n",
              "      <td>0.0</td>\n",
              "      <td>2021-08-29</td>\n",
              "      <td>5411.0</td>\n",
              "      <td>688.70</td>\n",
              "    </tr>\n",
              "    <tr>\n",
              "      <th>22</th>\n",
              "      <td>66e8c2121bff02c77920eebb2173f4ec96dfa68bd00a91...</td>\n",
              "      <td>EMAIL</td>\n",
              "      <td>2021-08-13</td>\n",
              "      <td>1.0</td>\n",
              "      <td>0.0</td>\n",
              "      <td>0.0</td>\n",
              "      <td>0.0</td>\n",
              "      <td>0.0</td>\n",
              "      <td>0.0</td>\n",
              "      <td>2021-09-05</td>\n",
              "      <td>5131.0</td>\n",
              "      <td>3933.00</td>\n",
              "    </tr>\n",
              "    <tr>\n",
              "      <th>23</th>\n",
              "      <td>66e8c2121bff02c77920eebb2173f4ec96dfa68bd00a91...</td>\n",
              "      <td>EMAIL</td>\n",
              "      <td>2021-08-13</td>\n",
              "      <td>1.0</td>\n",
              "      <td>0.0</td>\n",
              "      <td>0.0</td>\n",
              "      <td>0.0</td>\n",
              "      <td>0.0</td>\n",
              "      <td>0.0</td>\n",
              "      <td>2021-08-20</td>\n",
              "      <td>5441.0</td>\n",
              "      <td>25.00</td>\n",
              "    </tr>\n",
              "  </tbody>\n",
              "</table>\n",
              "</div>\n",
              "      <button class=\"colab-df-convert\" onclick=\"convertToInteractive('df-d8f6db26-f7ff-4211-b3d4-7f271aa259a6')\"\n",
              "              title=\"Convert this dataframe to an interactive table.\"\n",
              "              style=\"display:none;\">\n",
              "        \n",
              "  <svg xmlns=\"http://www.w3.org/2000/svg\" height=\"24px\"viewBox=\"0 0 24 24\"\n",
              "       width=\"24px\">\n",
              "    <path d=\"M0 0h24v24H0V0z\" fill=\"none\"/>\n",
              "    <path d=\"M18.56 5.44l.94 2.06.94-2.06 2.06-.94-2.06-.94-.94-2.06-.94 2.06-2.06.94zm-11 1L8.5 8.5l.94-2.06 2.06-.94-2.06-.94L8.5 2.5l-.94 2.06-2.06.94zm10 10l.94 2.06.94-2.06 2.06-.94-2.06-.94-.94-2.06-.94 2.06-2.06.94z\"/><path d=\"M17.41 7.96l-1.37-1.37c-.4-.4-.92-.59-1.43-.59-.52 0-1.04.2-1.43.59L10.3 9.45l-7.72 7.72c-.78.78-.78 2.05 0 2.83L4 21.41c.39.39.9.59 1.41.59.51 0 1.02-.2 1.41-.59l7.78-7.78 2.81-2.81c.8-.78.8-2.07 0-2.86zM5.41 20L4 18.59l7.72-7.72 1.47 1.35L5.41 20z\"/>\n",
              "  </svg>\n",
              "      </button>\n",
              "      \n",
              "  <style>\n",
              "    .colab-df-container {\n",
              "      display:flex;\n",
              "      flex-wrap:wrap;\n",
              "      gap: 12px;\n",
              "    }\n",
              "\n",
              "    .colab-df-convert {\n",
              "      background-color: #E8F0FE;\n",
              "      border: none;\n",
              "      border-radius: 50%;\n",
              "      cursor: pointer;\n",
              "      display: none;\n",
              "      fill: #1967D2;\n",
              "      height: 32px;\n",
              "      padding: 0 0 0 0;\n",
              "      width: 32px;\n",
              "    }\n",
              "\n",
              "    .colab-df-convert:hover {\n",
              "      background-color: #E2EBFA;\n",
              "      box-shadow: 0px 1px 2px rgba(60, 64, 67, 0.3), 0px 1px 3px 1px rgba(60, 64, 67, 0.15);\n",
              "      fill: #174EA6;\n",
              "    }\n",
              "\n",
              "    [theme=dark] .colab-df-convert {\n",
              "      background-color: #3B4455;\n",
              "      fill: #D2E3FC;\n",
              "    }\n",
              "\n",
              "    [theme=dark] .colab-df-convert:hover {\n",
              "      background-color: #434B5C;\n",
              "      box-shadow: 0px 1px 3px 1px rgba(0, 0, 0, 0.15);\n",
              "      filter: drop-shadow(0px 1px 2px rgba(0, 0, 0, 0.3));\n",
              "      fill: #FFFFFF;\n",
              "    }\n",
              "  </style>\n",
              "\n",
              "      <script>\n",
              "        const buttonEl =\n",
              "          document.querySelector('#df-d8f6db26-f7ff-4211-b3d4-7f271aa259a6 button.colab-df-convert');\n",
              "        buttonEl.style.display =\n",
              "          google.colab.kernel.accessAllowed ? 'block' : 'none';\n",
              "\n",
              "        async function convertToInteractive(key) {\n",
              "          const element = document.querySelector('#df-d8f6db26-f7ff-4211-b3d4-7f271aa259a6');\n",
              "          const dataTable =\n",
              "            await google.colab.kernel.invokeFunction('convertToInteractive',\n",
              "                                                     [key], {});\n",
              "          if (!dataTable) return;\n",
              "\n",
              "          const docLinkHtml = 'Like what you see? Visit the ' +\n",
              "            '<a target=\"_blank\" href=https://colab.research.google.com/notebooks/data_table.ipynb>data table notebook</a>'\n",
              "            + ' to learn more about interactive tables.';\n",
              "          element.innerHTML = '';\n",
              "          dataTable['output_type'] = 'display_data';\n",
              "          await google.colab.output.renderOutput(dataTable, element);\n",
              "          const docLink = document.createElement('div');\n",
              "          docLink.innerHTML = docLinkHtml;\n",
              "          element.appendChild(docLink);\n",
              "        }\n",
              "      </script>\n",
              "    </div>\n",
              "  </div>\n",
              "  "
            ]
          },
          "metadata": {},
          "execution_count": 53
        }
      ]
    },
    {
      "cell_type": "code",
      "source": [
        "sGroup3.count()"
      ],
      "metadata": {
        "colab": {
          "base_uri": "https://localhost:8080/"
        },
        "id": "iYyqu-vnLSfr",
        "outputId": "c82efdef-3b9a-404a-f863-fdc5891cc9fb"
      },
      "execution_count": 54,
      "outputs": [
        {
          "output_type": "execute_result",
          "data": {
            "text/plain": [
              "cust_id              4327\n",
              "channel_type         4327\n",
              "contact_dt           4327\n",
              "control_group_flg    4327\n",
              "sent                 4327\n",
              "delivered            4327\n",
              "opened               4327\n",
              "clicked              4327\n",
              "blocked              4327\n",
              "transaction_dt       4327\n",
              "mcc_id               4327\n",
              "txn_sum              4327\n",
              "dtype: int64"
            ]
          },
          "metadata": {},
          "execution_count": 54
        }
      ]
    },
    {
      "cell_type": "code",
      "source": [
        "sGroup4= sGroup3.merge(card_openings_non_participants, on=[\"cust_id\"],how='left')"
      ],
      "metadata": {
        "id": "ViDAvvhuQ0Ej"
      },
      "execution_count": 55,
      "outputs": []
    },
    {
      "cell_type": "code",
      "source": [
        "sytheticControlGroupData = sGroup4.dropna()"
      ],
      "metadata": {
        "id": "zswwlVGBSa_i"
      },
      "execution_count": 56,
      "outputs": []
    },
    {
      "cell_type": "markdown",
      "source": [],
      "metadata": {
        "id": "_XtE5QvYTRfA"
      }
    },
    {
      "cell_type": "markdown",
      "source": [
        "## Generated Synthetic Group data after merging twins_base , card_openings_non_participants ,visa_transactions_non_particip ,and visa_communications tables on cust_id  "
      ],
      "metadata": {
        "id": "x1uZ-H-XTISG"
      }
    },
    {
      "cell_type": "code",
      "source": [
        "sytheticControlGroupData.head(10)"
      ],
      "metadata": {
        "colab": {
          "base_uri": "https://localhost:8080/",
          "height": 600
        },
        "id": "kRrf8byeSpKU",
        "outputId": "08c2ac71-5933-4b79-8614-5f59991601f1"
      },
      "execution_count": 57,
      "outputs": [
        {
          "output_type": "execute_result",
          "data": {
            "text/plain": [
              "                                             cust_id channel_type  \\\n",
              "0  66e8c2121bff02c77920eebb2173f4ec96dfa68bd00a91...        EMAIL   \n",
              "1  66e8c2121bff02c77920eebb2173f4ec96dfa68bd00a91...        EMAIL   \n",
              "2  66e8c2121bff02c77920eebb2173f4ec96dfa68bd00a91...        EMAIL   \n",
              "3  66e8c2121bff02c77920eebb2173f4ec96dfa68bd00a91...        EMAIL   \n",
              "4  66e8c2121bff02c77920eebb2173f4ec96dfa68bd00a91...        EMAIL   \n",
              "5  66e8c2121bff02c77920eebb2173f4ec96dfa68bd00a91...        EMAIL   \n",
              "6  66e8c2121bff02c77920eebb2173f4ec96dfa68bd00a91...        EMAIL   \n",
              "7  66e8c2121bff02c77920eebb2173f4ec96dfa68bd00a91...        EMAIL   \n",
              "8  66e8c2121bff02c77920eebb2173f4ec96dfa68bd00a91...        EMAIL   \n",
              "9  66e8c2121bff02c77920eebb2173f4ec96dfa68bd00a91...        EMAIL   \n",
              "\n",
              "  contact_dt_x  control_group_flg  sent  delivered  opened  clicked  blocked  \\\n",
              "0   2021-08-13                1.0   0.0        0.0     0.0      0.0      0.0   \n",
              "1   2021-08-13                1.0   0.0        0.0     0.0      0.0      0.0   \n",
              "2   2021-08-13                1.0   0.0        0.0     0.0      0.0      0.0   \n",
              "3   2021-08-13                1.0   0.0        0.0     0.0      0.0      0.0   \n",
              "4   2021-08-13                1.0   0.0        0.0     0.0      0.0      0.0   \n",
              "5   2021-08-13                1.0   0.0        0.0     0.0      0.0      0.0   \n",
              "6   2021-08-13                1.0   0.0        0.0     0.0      0.0      0.0   \n",
              "7   2021-08-13                1.0   0.0        0.0     0.0      0.0      0.0   \n",
              "8   2021-08-13                1.0   0.0        0.0     0.0      0.0      0.0   \n",
              "9   2021-08-13                1.0   0.0        0.0     0.0      0.0      0.0   \n",
              "\n",
              "  transaction_dt  mcc_id  txn_sum    open_dt contact_dt_y  \n",
              "0     2021-09-05  5499.0   200.00 2021-08-12            0  \n",
              "1     2021-09-05  5411.0   368.94 2021-08-12            0  \n",
              "2     2021-08-29  5411.0   688.70 2021-08-12            0  \n",
              "3     2021-09-05  5131.0  3933.00 2021-08-12            0  \n",
              "4     2021-08-20  5441.0    25.00 2021-08-12            0  \n",
              "5     2021-08-20  5411.0  1411.79 2021-08-12            0  \n",
              "6     2021-08-19  5441.0   165.00 2021-08-12            0  \n",
              "7     2021-09-03  5411.0   771.32 2021-08-12            0  \n",
              "8     2021-08-15  5541.0  1699.61 2021-08-12            0  \n",
              "9     2021-09-02  5541.0  1800.00 2021-08-12            0  "
            ],
            "text/html": [
              "\n",
              "  <div id=\"df-ea72613e-d3f2-4dde-9772-f50923755d0c\">\n",
              "    <div class=\"colab-df-container\">\n",
              "      <div>\n",
              "<style scoped>\n",
              "    .dataframe tbody tr th:only-of-type {\n",
              "        vertical-align: middle;\n",
              "    }\n",
              "\n",
              "    .dataframe tbody tr th {\n",
              "        vertical-align: top;\n",
              "    }\n",
              "\n",
              "    .dataframe thead th {\n",
              "        text-align: right;\n",
              "    }\n",
              "</style>\n",
              "<table border=\"1\" class=\"dataframe\">\n",
              "  <thead>\n",
              "    <tr style=\"text-align: right;\">\n",
              "      <th></th>\n",
              "      <th>cust_id</th>\n",
              "      <th>channel_type</th>\n",
              "      <th>contact_dt_x</th>\n",
              "      <th>control_group_flg</th>\n",
              "      <th>sent</th>\n",
              "      <th>delivered</th>\n",
              "      <th>opened</th>\n",
              "      <th>clicked</th>\n",
              "      <th>blocked</th>\n",
              "      <th>transaction_dt</th>\n",
              "      <th>mcc_id</th>\n",
              "      <th>txn_sum</th>\n",
              "      <th>open_dt</th>\n",
              "      <th>contact_dt_y</th>\n",
              "    </tr>\n",
              "  </thead>\n",
              "  <tbody>\n",
              "    <tr>\n",
              "      <th>0</th>\n",
              "      <td>66e8c2121bff02c77920eebb2173f4ec96dfa68bd00a91...</td>\n",
              "      <td>EMAIL</td>\n",
              "      <td>2021-08-13</td>\n",
              "      <td>1.0</td>\n",
              "      <td>0.0</td>\n",
              "      <td>0.0</td>\n",
              "      <td>0.0</td>\n",
              "      <td>0.0</td>\n",
              "      <td>0.0</td>\n",
              "      <td>2021-09-05</td>\n",
              "      <td>5499.0</td>\n",
              "      <td>200.00</td>\n",
              "      <td>2021-08-12</td>\n",
              "      <td>0</td>\n",
              "    </tr>\n",
              "    <tr>\n",
              "      <th>1</th>\n",
              "      <td>66e8c2121bff02c77920eebb2173f4ec96dfa68bd00a91...</td>\n",
              "      <td>EMAIL</td>\n",
              "      <td>2021-08-13</td>\n",
              "      <td>1.0</td>\n",
              "      <td>0.0</td>\n",
              "      <td>0.0</td>\n",
              "      <td>0.0</td>\n",
              "      <td>0.0</td>\n",
              "      <td>0.0</td>\n",
              "      <td>2021-09-05</td>\n",
              "      <td>5411.0</td>\n",
              "      <td>368.94</td>\n",
              "      <td>2021-08-12</td>\n",
              "      <td>0</td>\n",
              "    </tr>\n",
              "    <tr>\n",
              "      <th>2</th>\n",
              "      <td>66e8c2121bff02c77920eebb2173f4ec96dfa68bd00a91...</td>\n",
              "      <td>EMAIL</td>\n",
              "      <td>2021-08-13</td>\n",
              "      <td>1.0</td>\n",
              "      <td>0.0</td>\n",
              "      <td>0.0</td>\n",
              "      <td>0.0</td>\n",
              "      <td>0.0</td>\n",
              "      <td>0.0</td>\n",
              "      <td>2021-08-29</td>\n",
              "      <td>5411.0</td>\n",
              "      <td>688.70</td>\n",
              "      <td>2021-08-12</td>\n",
              "      <td>0</td>\n",
              "    </tr>\n",
              "    <tr>\n",
              "      <th>3</th>\n",
              "      <td>66e8c2121bff02c77920eebb2173f4ec96dfa68bd00a91...</td>\n",
              "      <td>EMAIL</td>\n",
              "      <td>2021-08-13</td>\n",
              "      <td>1.0</td>\n",
              "      <td>0.0</td>\n",
              "      <td>0.0</td>\n",
              "      <td>0.0</td>\n",
              "      <td>0.0</td>\n",
              "      <td>0.0</td>\n",
              "      <td>2021-09-05</td>\n",
              "      <td>5131.0</td>\n",
              "      <td>3933.00</td>\n",
              "      <td>2021-08-12</td>\n",
              "      <td>0</td>\n",
              "    </tr>\n",
              "    <tr>\n",
              "      <th>4</th>\n",
              "      <td>66e8c2121bff02c77920eebb2173f4ec96dfa68bd00a91...</td>\n",
              "      <td>EMAIL</td>\n",
              "      <td>2021-08-13</td>\n",
              "      <td>1.0</td>\n",
              "      <td>0.0</td>\n",
              "      <td>0.0</td>\n",
              "      <td>0.0</td>\n",
              "      <td>0.0</td>\n",
              "      <td>0.0</td>\n",
              "      <td>2021-08-20</td>\n",
              "      <td>5441.0</td>\n",
              "      <td>25.00</td>\n",
              "      <td>2021-08-12</td>\n",
              "      <td>0</td>\n",
              "    </tr>\n",
              "    <tr>\n",
              "      <th>5</th>\n",
              "      <td>66e8c2121bff02c77920eebb2173f4ec96dfa68bd00a91...</td>\n",
              "      <td>EMAIL</td>\n",
              "      <td>2021-08-13</td>\n",
              "      <td>1.0</td>\n",
              "      <td>0.0</td>\n",
              "      <td>0.0</td>\n",
              "      <td>0.0</td>\n",
              "      <td>0.0</td>\n",
              "      <td>0.0</td>\n",
              "      <td>2021-08-20</td>\n",
              "      <td>5411.0</td>\n",
              "      <td>1411.79</td>\n",
              "      <td>2021-08-12</td>\n",
              "      <td>0</td>\n",
              "    </tr>\n",
              "    <tr>\n",
              "      <th>6</th>\n",
              "      <td>66e8c2121bff02c77920eebb2173f4ec96dfa68bd00a91...</td>\n",
              "      <td>EMAIL</td>\n",
              "      <td>2021-08-13</td>\n",
              "      <td>1.0</td>\n",
              "      <td>0.0</td>\n",
              "      <td>0.0</td>\n",
              "      <td>0.0</td>\n",
              "      <td>0.0</td>\n",
              "      <td>0.0</td>\n",
              "      <td>2021-08-19</td>\n",
              "      <td>5441.0</td>\n",
              "      <td>165.00</td>\n",
              "      <td>2021-08-12</td>\n",
              "      <td>0</td>\n",
              "    </tr>\n",
              "    <tr>\n",
              "      <th>7</th>\n",
              "      <td>66e8c2121bff02c77920eebb2173f4ec96dfa68bd00a91...</td>\n",
              "      <td>EMAIL</td>\n",
              "      <td>2021-08-13</td>\n",
              "      <td>1.0</td>\n",
              "      <td>0.0</td>\n",
              "      <td>0.0</td>\n",
              "      <td>0.0</td>\n",
              "      <td>0.0</td>\n",
              "      <td>0.0</td>\n",
              "      <td>2021-09-03</td>\n",
              "      <td>5411.0</td>\n",
              "      <td>771.32</td>\n",
              "      <td>2021-08-12</td>\n",
              "      <td>0</td>\n",
              "    </tr>\n",
              "    <tr>\n",
              "      <th>8</th>\n",
              "      <td>66e8c2121bff02c77920eebb2173f4ec96dfa68bd00a91...</td>\n",
              "      <td>EMAIL</td>\n",
              "      <td>2021-08-13</td>\n",
              "      <td>1.0</td>\n",
              "      <td>0.0</td>\n",
              "      <td>0.0</td>\n",
              "      <td>0.0</td>\n",
              "      <td>0.0</td>\n",
              "      <td>0.0</td>\n",
              "      <td>2021-08-15</td>\n",
              "      <td>5541.0</td>\n",
              "      <td>1699.61</td>\n",
              "      <td>2021-08-12</td>\n",
              "      <td>0</td>\n",
              "    </tr>\n",
              "    <tr>\n",
              "      <th>9</th>\n",
              "      <td>66e8c2121bff02c77920eebb2173f4ec96dfa68bd00a91...</td>\n",
              "      <td>EMAIL</td>\n",
              "      <td>2021-08-13</td>\n",
              "      <td>1.0</td>\n",
              "      <td>0.0</td>\n",
              "      <td>0.0</td>\n",
              "      <td>0.0</td>\n",
              "      <td>0.0</td>\n",
              "      <td>0.0</td>\n",
              "      <td>2021-09-02</td>\n",
              "      <td>5541.0</td>\n",
              "      <td>1800.00</td>\n",
              "      <td>2021-08-12</td>\n",
              "      <td>0</td>\n",
              "    </tr>\n",
              "  </tbody>\n",
              "</table>\n",
              "</div>\n",
              "      <button class=\"colab-df-convert\" onclick=\"convertToInteractive('df-ea72613e-d3f2-4dde-9772-f50923755d0c')\"\n",
              "              title=\"Convert this dataframe to an interactive table.\"\n",
              "              style=\"display:none;\">\n",
              "        \n",
              "  <svg xmlns=\"http://www.w3.org/2000/svg\" height=\"24px\"viewBox=\"0 0 24 24\"\n",
              "       width=\"24px\">\n",
              "    <path d=\"M0 0h24v24H0V0z\" fill=\"none\"/>\n",
              "    <path d=\"M18.56 5.44l.94 2.06.94-2.06 2.06-.94-2.06-.94-.94-2.06-.94 2.06-2.06.94zm-11 1L8.5 8.5l.94-2.06 2.06-.94-2.06-.94L8.5 2.5l-.94 2.06-2.06.94zm10 10l.94 2.06.94-2.06 2.06-.94-2.06-.94-.94-2.06-.94 2.06-2.06.94z\"/><path d=\"M17.41 7.96l-1.37-1.37c-.4-.4-.92-.59-1.43-.59-.52 0-1.04.2-1.43.59L10.3 9.45l-7.72 7.72c-.78.78-.78 2.05 0 2.83L4 21.41c.39.39.9.59 1.41.59.51 0 1.02-.2 1.41-.59l7.78-7.78 2.81-2.81c.8-.78.8-2.07 0-2.86zM5.41 20L4 18.59l7.72-7.72 1.47 1.35L5.41 20z\"/>\n",
              "  </svg>\n",
              "      </button>\n",
              "      \n",
              "  <style>\n",
              "    .colab-df-container {\n",
              "      display:flex;\n",
              "      flex-wrap:wrap;\n",
              "      gap: 12px;\n",
              "    }\n",
              "\n",
              "    .colab-df-convert {\n",
              "      background-color: #E8F0FE;\n",
              "      border: none;\n",
              "      border-radius: 50%;\n",
              "      cursor: pointer;\n",
              "      display: none;\n",
              "      fill: #1967D2;\n",
              "      height: 32px;\n",
              "      padding: 0 0 0 0;\n",
              "      width: 32px;\n",
              "    }\n",
              "\n",
              "    .colab-df-convert:hover {\n",
              "      background-color: #E2EBFA;\n",
              "      box-shadow: 0px 1px 2px rgba(60, 64, 67, 0.3), 0px 1px 3px 1px rgba(60, 64, 67, 0.15);\n",
              "      fill: #174EA6;\n",
              "    }\n",
              "\n",
              "    [theme=dark] .colab-df-convert {\n",
              "      background-color: #3B4455;\n",
              "      fill: #D2E3FC;\n",
              "    }\n",
              "\n",
              "    [theme=dark] .colab-df-convert:hover {\n",
              "      background-color: #434B5C;\n",
              "      box-shadow: 0px 1px 3px 1px rgba(0, 0, 0, 0.15);\n",
              "      filter: drop-shadow(0px 1px 2px rgba(0, 0, 0, 0.3));\n",
              "      fill: #FFFFFF;\n",
              "    }\n",
              "  </style>\n",
              "\n",
              "      <script>\n",
              "        const buttonEl =\n",
              "          document.querySelector('#df-ea72613e-d3f2-4dde-9772-f50923755d0c button.colab-df-convert');\n",
              "        buttonEl.style.display =\n",
              "          google.colab.kernel.accessAllowed ? 'block' : 'none';\n",
              "\n",
              "        async function convertToInteractive(key) {\n",
              "          const element = document.querySelector('#df-ea72613e-d3f2-4dde-9772-f50923755d0c');\n",
              "          const dataTable =\n",
              "            await google.colab.kernel.invokeFunction('convertToInteractive',\n",
              "                                                     [key], {});\n",
              "          if (!dataTable) return;\n",
              "\n",
              "          const docLinkHtml = 'Like what you see? Visit the ' +\n",
              "            '<a target=\"_blank\" href=https://colab.research.google.com/notebooks/data_table.ipynb>data table notebook</a>'\n",
              "            + ' to learn more about interactive tables.';\n",
              "          element.innerHTML = '';\n",
              "          dataTable['output_type'] = 'display_data';\n",
              "          await google.colab.output.renderOutput(dataTable, element);\n",
              "          const docLink = document.createElement('div');\n",
              "          docLink.innerHTML = docLinkHtml;\n",
              "          element.appendChild(docLink);\n",
              "        }\n",
              "      </script>\n",
              "    </div>\n",
              "  </div>\n",
              "  "
            ]
          },
          "metadata": {},
          "execution_count": 57
        }
      ]
    },
    {
      "cell_type": "code",
      "source": [
        "sytheticControlGroupData.count()"
      ],
      "metadata": {
        "colab": {
          "base_uri": "https://localhost:8080/"
        },
        "id": "9xvdTF9OSzO_",
        "outputId": "689c33c2-aeda-421a-ee6b-532d5d9acbf4"
      },
      "execution_count": 58,
      "outputs": [
        {
          "output_type": "execute_result",
          "data": {
            "text/plain": [
              "cust_id              4859\n",
              "channel_type         4859\n",
              "contact_dt_x         4859\n",
              "control_group_flg    4859\n",
              "sent                 4859\n",
              "delivered            4859\n",
              "opened               4859\n",
              "clicked              4859\n",
              "blocked              4859\n",
              "transaction_dt       4859\n",
              "mcc_id               4859\n",
              "txn_sum              4859\n",
              "open_dt              4859\n",
              "contact_dt_y         4859\n",
              "dtype: int64"
            ]
          },
          "metadata": {},
          "execution_count": 58
        }
      ]
    },
    {
      "cell_type": "markdown",
      "source": [
        "**Now We will have targeted group data to compare with sythatic group data **"
      ],
      "metadata": {
        "id": "G0uXcxsxXpGx"
      }
    },
    {
      "cell_type": "code",
      "source": [
        "TG = twins_base.rename(columns = {'tg_cust_id':\n",
        "                              'cust_id'})"
      ],
      "metadata": {
        "id": "5TFFfqO9XsHi"
      },
      "execution_count": 59,
      "outputs": []
    },
    {
      "cell_type": "code",
      "source": [
        "TG1= TG.merge(visa_transactions_non_particip, how='left')"
      ],
      "metadata": {
        "id": "k_9qwIdYZz8a"
      },
      "execution_count": 60,
      "outputs": []
    },
    {
      "cell_type": "markdown",
      "source": [],
      "metadata": {
        "id": "S5VRxOicZ8SV"
      }
    },
    {
      "cell_type": "markdown",
      "source": [],
      "metadata": {
        "id": "IojjNExQHUSj"
      }
    },
    {
      "cell_type": "markdown",
      "source": [
        "#### We will calcute the effect of the eamil"
      ],
      "metadata": {
        "id": "2X1vFcHkgGE7"
      }
    },
    {
      "cell_type": "markdown",
      "source": [
        "Merged the visa communications with features type 2 by cust_id and tried to find the effect of email."
      ],
      "metadata": {
        "id": "wLvBsEWWNhQY"
      }
    },
    {
      "cell_type": "code",
      "source": [
        "Popup_num = visa_communications[(visa_communications['channel_type'] == 'Popup') & (visa_communications['clicked'] == 1)]\n",
        "print(Popup_num)"
      ],
      "metadata": {
        "colab": {
          "base_uri": "https://localhost:8080/"
        },
        "id": "WlGaVZjlvpd2",
        "outputId": "7db53c7a-60ae-4cac-97e4-a472bdfafd87"
      },
      "execution_count": 75,
      "outputs": [
        {
          "output_type": "stream",
          "name": "stdout",
          "text": [
            "        channel_type contact_dt  control_group_flg  sent  delivered  opened  \\\n",
            "189            Popup 2021-08-12                  0     1          1       1   \n",
            "283            Popup 2021-08-19                  0     1          1       1   \n",
            "311            Popup 2021-08-25                  0     1          1       1   \n",
            "364            Popup 2021-08-17                  0     1          1       1   \n",
            "427            Popup 2021-08-12                  0     1          1       1   \n",
            "...              ...        ...                ...   ...        ...     ...   \n",
            "1456089        Popup 2021-08-16                  0     1          1       1   \n",
            "1456336        Popup 2021-08-23                  0     1          1       1   \n",
            "1456583        Popup 2021-08-17                  0     1          1       1   \n",
            "1456601        Popup 2021-08-11                  0     1          1       1   \n",
            "1456771        Popup 2021-08-11                  0     1          1       1   \n",
            "\n",
            "         clicked  blocked                                            cust_id  \n",
            "189            1        0  af79c9aff85ede28532b7c2417dc4edcb7b101972ba474...  \n",
            "283            1        0  53545b96d20fa68dec932d0bc24a32d57457f0a0a77b18...  \n",
            "311            1        0  16a4b92cd53f099d24bc349141536764d465ae906f6377...  \n",
            "364            1        0  9c67d46a9708b993b2d1d6635f8b92950e1c47f8876d67...  \n",
            "427            1        0  9a078481f3b33a1749875d6e4171856da86b461fa2df4c...  \n",
            "...          ...      ...                                                ...  \n",
            "1456089        1        0  3ebecd39636b2c71a117fa91b143938aaf027cda82790e...  \n",
            "1456336        1        0  894527b6f3b62e607abe72c4f47b269e4d3769e64261ab...  \n",
            "1456583        1        0  3b293ab52f3ed83343c29442bca6a1326088829f2052ac...  \n",
            "1456601        1        0  d0c4451ba411e8804f7d3d7f9c60f27882ec3232973487...  \n",
            "1456771        1        0  e095abc39068c97fe555f5591286f9e260271579d7f5e8...  \n",
            "\n",
            "[21232 rows x 9 columns]\n"
          ]
        }
      ]
    },
    {
      "cell_type": "code",
      "source": [
        "email_num = visa_communications[(visa_communications['channel_type'] == 'EMAIL') & (visa_communications['clicked'] == 1)]\n",
        "print(email_num)"
      ],
      "metadata": {
        "id": "Lo38ntXMgOWj",
        "outputId": "bbdb73d8-4c74-44eb-b330-469554f1f9ee",
        "colab": {
          "base_uri": "https://localhost:8080/"
        }
      },
      "execution_count": 61,
      "outputs": [
        {
          "output_type": "stream",
          "name": "stdout",
          "text": [
            "        channel_type contact_dt  control_group_flg  sent  delivered  opened  \\\n",
            "51             EMAIL 2021-08-12                  0     1          1       1   \n",
            "981            EMAIL 2021-08-13                  0     1          1       1   \n",
            "1248           EMAIL 2021-08-13                  0     1          1       1   \n",
            "1347           EMAIL 2021-08-12                  0     1          1       1   \n",
            "1561           EMAIL 2021-08-13                  0     1          1       1   \n",
            "...              ...        ...                ...   ...        ...     ...   \n",
            "1452537        EMAIL 2021-08-12                  0     1          1       1   \n",
            "1453297        EMAIL 2021-08-13                  0     1          1       1   \n",
            "1453325        EMAIL 2021-08-12                  0     1          1       1   \n",
            "1455016        EMAIL 2021-08-12                  0     1          1       1   \n",
            "1455988        EMAIL 2021-08-12                  0     1          1       1   \n",
            "\n",
            "         clicked  blocked                                            cust_id  \n",
            "51             1        0  c1ed6b85207b3af9d4263850038c15200d2f1be27c11b6...  \n",
            "981            1        0  c602af1b8b2008d57d219107bd0915a3e08c3dd0907233...  \n",
            "1248           1        0  dd737d5a91e50fecfce03f61213b6e821cc36ddd1283df...  \n",
            "1347           1        0  85fab79aca8eb416d511b91837e76d6ca4777d9e702c68...  \n",
            "1561           1        0  57bd7fae982707ed5577a37308b92dc97bb8da01e51780...  \n",
            "...          ...      ...                                                ...  \n",
            "1452537        1        0  5368871716a461aca4ee46438fd49ac81aa03a61d74b44...  \n",
            "1453297        1        0  08af500c82300fb304d6c318b7e1ec2222e6ca15656bdf...  \n",
            "1453325        1        0  c2dec683dd5f9fb5b495ce0386dffee90bba5a9bf0c7a7...  \n",
            "1455016        1        0  88220bea73ed08ededf11731494f5a5a0785eae60124f8...  \n",
            "1455988        1        0  45bec093a13f7383b06af7af1cc418819059d392a48379...  \n",
            "\n",
            "[3166 rows x 9 columns]\n"
          ]
        }
      ]
    },
    {
      "cell_type": "code",
      "source": [
        "match_Popup_cust_id = features_try2[features_try2['cust_id'].isin(Popup_num['cust_id'])]\n",
        "print(match_Popup_cust_id)"
      ],
      "metadata": {
        "colab": {
          "base_uri": "https://localhost:8080/"
        },
        "id": "aLJWll8pwIq0",
        "outputId": "c7dfb3ca-7b51-4903-d1e3-e9ef06d0779c"
      },
      "execution_count": 78,
      "outputs": [
        {
          "output_type": "stream",
          "name": "stdout",
          "text": [
            "                                                    cust_id   mnth_gen  \\\n",
            "13691     68a29416504de93e5f7e0e368adc6e079df0a09a9e47ec... 2021-08-01   \n",
            "36405     de551def70b3849094ea6ad314edee50f0c24f44d1cbbd... 2021-01-01   \n",
            "40636     70dcb3721a2c21d29e7a67e718146207c9d1d3fc1bb973... 2021-01-01   \n",
            "42372     ccd4c00340e73a8f8e42b461ea07e5e4d9aea17b7fff84... 2021-02-01   \n",
            "65417     6422b7224769bfe6ddbe3041fb3f4282b89902fa4e8ea7... 2021-05-01   \n",
            "...                                                     ...        ...   \n",
            "31349615  863767f12fcf798fe2c7bb3471401a94b9242f72f82b15... 2021-01-01   \n",
            "31358267  e13d12b423d446214e4dae115c6588e8260674e744e6ea... 2021-02-01   \n",
            "31379478  50aa30f9419d26e230bb9a2edf7d5b521429f526428441... 2021-09-01   \n",
            "31386614  82a5c61ab9311ea23d95189bf19c10d053a554b58e39d7... 2021-02-01   \n",
            "31404282  dbd8c7c67aa14f9c3f11df294f7bcafac750673962c472... 2021-07-01   \n",
            "\n",
            "          turnover  involve_cd client_segment gender age_gr  \n",
            "13691     15766.99           0           MASS      F  25-40  \n",
            "36405     34018.47           1      MVS UPPER      F  25-40  \n",
            "40636     22863.11           1      MVS LIGHT      M  25-40  \n",
            "42372     18223.50           0      MVS UPPER      F  40-60  \n",
            "65417      5058.39           0           MASS      M  25-40  \n",
            "...            ...         ...            ...    ...    ...  \n",
            "31349615    476.97           0           MASS      F  40-60  \n",
            "31358267  54494.03           1      MVS LIGHT      F  25-40  \n",
            "31379478  18270.43           1           MASS      M  25-40  \n",
            "31386614   5667.13           0           MASS      M    <25  \n",
            "31404282  12647.61           0      MVS UPPER      F  40-60  \n",
            "\n",
            "[1898 rows x 7 columns]\n"
          ]
        }
      ]
    },
    {
      "cell_type": "code",
      "source": [
        "match_cust_id = features_try2[features_try2['cust_id'].isin(email_num['cust_id'])]\n",
        "print(match_cust_id)"
      ],
      "metadata": {
        "id": "ICEDQWUakNWi",
        "outputId": "62916e5b-c958-4ee9-ad40-cb564e86f6a8",
        "colab": {
          "base_uri": "https://localhost:8080/"
        }
      },
      "execution_count": 62,
      "outputs": [
        {
          "output_type": "stream",
          "name": "stdout",
          "text": [
            "                                                    cust_id   mnth_gen  \\\n",
            "36        ae1b4c4d49ba98022a1da7f264e41ef47302713d3169c0... 2021-01-01   \n",
            "599       a86920c2400b0ab7776c81e481387f439ede1f8319a7aa... 2021-04-01   \n",
            "1086      1366d81da4edb2679ac4bc77ed767b713853119d04476f... 2021-07-01   \n",
            "1174      f0a1bb12db7b2ed1a4f5d00fa64a1acf4bfbddc20fa2a8... 2021-09-01   \n",
            "1478      e2c6b8711f2d12a59b04fb41fba797b7c8dda8171c4518... 2021-07-01   \n",
            "...                                                     ...        ...   \n",
            "31416795  302f04c832f54fec653dc3f2cc8f73afec1763616bbb1a... 2021-08-01   \n",
            "31416825  54f7a919e957443579923599b2459c212bbcf5648da797... 2021-10-01   \n",
            "31417476  85c97dc55fbb922f73d19a522042f855715fbd81526411... 2021-10-01   \n",
            "31417727  a7c36cfe6a7fc846c46b530f70c04121be2939eabe6d8a... 2021-06-01   \n",
            "31417936  93040451246bd1e8c202d873d08e9cff358c58548e0fbd... 2021-09-01   \n",
            "\n",
            "          turnover  involve_cd client_segment gender age_gr  \n",
            "36        13632.97           1           MASS      M  40-60  \n",
            "599       11263.59           0           MASS      M  25-40  \n",
            "1086      48467.94           1      MVS LIGHT      M  40-60  \n",
            "1174      39192.76           1      MVS UPPER      M  25-40  \n",
            "1478      25658.37           1           MASS      F  40-60  \n",
            "...            ...         ...            ...    ...    ...  \n",
            "31416795  52828.64           1      MVS LIGHT      F  40-60  \n",
            "31416825  57073.39           1      MVS UPPER      M  25-40  \n",
            "31417476  74756.81           1      MVS UPPER      M  40-60  \n",
            "31417727  25264.92           0             na     na     na  \n",
            "31417936  46216.97           0           MASS      F    <25  \n",
            "\n",
            "[56041 rows x 7 columns]\n"
          ]
        }
      ]
    },
    {
      "cell_type": "code",
      "source": [
        "done_work_popup = match_Popup_cust_id[['cust_id', 'turnover', 'mnth_gen', 'gender']]\n",
        "print(done_work_popup)"
      ],
      "metadata": {
        "colab": {
          "base_uri": "https://localhost:8080/"
        },
        "id": "MleBAzUIwWem",
        "outputId": "09456ca8-3a4f-47b6-b9f8-6f327a466189"
      },
      "execution_count": 80,
      "outputs": [
        {
          "output_type": "stream",
          "name": "stdout",
          "text": [
            "                                                    cust_id  turnover  \\\n",
            "13691     68a29416504de93e5f7e0e368adc6e079df0a09a9e47ec...  15766.99   \n",
            "36405     de551def70b3849094ea6ad314edee50f0c24f44d1cbbd...  34018.47   \n",
            "40636     70dcb3721a2c21d29e7a67e718146207c9d1d3fc1bb973...  22863.11   \n",
            "42372     ccd4c00340e73a8f8e42b461ea07e5e4d9aea17b7fff84...  18223.50   \n",
            "65417     6422b7224769bfe6ddbe3041fb3f4282b89902fa4e8ea7...   5058.39   \n",
            "...                                                     ...       ...   \n",
            "31349615  863767f12fcf798fe2c7bb3471401a94b9242f72f82b15...    476.97   \n",
            "31358267  e13d12b423d446214e4dae115c6588e8260674e744e6ea...  54494.03   \n",
            "31379478  50aa30f9419d26e230bb9a2edf7d5b521429f526428441...  18270.43   \n",
            "31386614  82a5c61ab9311ea23d95189bf19c10d053a554b58e39d7...   5667.13   \n",
            "31404282  dbd8c7c67aa14f9c3f11df294f7bcafac750673962c472...  12647.61   \n",
            "\n",
            "           mnth_gen gender  \n",
            "13691    2021-08-01      F  \n",
            "36405    2021-01-01      F  \n",
            "40636    2021-01-01      M  \n",
            "42372    2021-02-01      F  \n",
            "65417    2021-05-01      M  \n",
            "...             ...    ...  \n",
            "31349615 2021-01-01      F  \n",
            "31358267 2021-02-01      F  \n",
            "31379478 2021-09-01      M  \n",
            "31386614 2021-02-01      M  \n",
            "31404282 2021-07-01      F  \n",
            "\n",
            "[1898 rows x 4 columns]\n"
          ]
        }
      ]
    },
    {
      "cell_type": "code",
      "source": [
        "done_work = match_cust_id[['cust_id', 'turnover', 'mnth_gen', 'gender']]\n",
        "print(done_work)"
      ],
      "metadata": {
        "id": "hk-U_HL6qeGK",
        "outputId": "427fa890-7a39-4c9e-b2f6-757d062e0752",
        "colab": {
          "base_uri": "https://localhost:8080/"
        }
      },
      "execution_count": 63,
      "outputs": [
        {
          "output_type": "stream",
          "name": "stdout",
          "text": [
            "                                                    cust_id  turnover  \\\n",
            "36        ae1b4c4d49ba98022a1da7f264e41ef47302713d3169c0...  13632.97   \n",
            "599       a86920c2400b0ab7776c81e481387f439ede1f8319a7aa...  11263.59   \n",
            "1086      1366d81da4edb2679ac4bc77ed767b713853119d04476f...  48467.94   \n",
            "1174      f0a1bb12db7b2ed1a4f5d00fa64a1acf4bfbddc20fa2a8...  39192.76   \n",
            "1478      e2c6b8711f2d12a59b04fb41fba797b7c8dda8171c4518...  25658.37   \n",
            "...                                                     ...       ...   \n",
            "31416795  302f04c832f54fec653dc3f2cc8f73afec1763616bbb1a...  52828.64   \n",
            "31416825  54f7a919e957443579923599b2459c212bbcf5648da797...  57073.39   \n",
            "31417476  85c97dc55fbb922f73d19a522042f855715fbd81526411...  74756.81   \n",
            "31417727  a7c36cfe6a7fc846c46b530f70c04121be2939eabe6d8a...  25264.92   \n",
            "31417936  93040451246bd1e8c202d873d08e9cff358c58548e0fbd...  46216.97   \n",
            "\n",
            "           mnth_gen gender  \n",
            "36       2021-01-01      M  \n",
            "599      2021-04-01      M  \n",
            "1086     2021-07-01      M  \n",
            "1174     2021-09-01      M  \n",
            "1478     2021-07-01      F  \n",
            "...             ...    ...  \n",
            "31416795 2021-08-01      F  \n",
            "31416825 2021-10-01      M  \n",
            "31417476 2021-10-01      M  \n",
            "31417727 2021-06-01     na  \n",
            "31417936 2021-09-01      F  \n",
            "\n",
            "[56041 rows x 4 columns]\n"
          ]
        }
      ]
    },
    {
      "cell_type": "code",
      "source": [
        "done_work_Popup_grouped=done_work_popup.groupby('mnth_gen', as_index=False).agg({'turnover':'sum'})"
      ],
      "metadata": {
        "id": "Ldgn9_OByEWt"
      },
      "execution_count": 81,
      "outputs": []
    },
    {
      "cell_type": "code",
      "source": [
        "done_work_Popup_grouped.head(3)"
      ],
      "metadata": {
        "colab": {
          "base_uri": "https://localhost:8080/",
          "height": 143
        },
        "id": "d9cKKM_QyQ1K",
        "outputId": "70103bf6-44bc-4f33-8cbe-62d5b2d02a56"
      },
      "execution_count": 82,
      "outputs": [
        {
          "output_type": "execute_result",
          "data": {
            "text/plain": [
              "    mnth_gen    turnover\n",
              "0 2021-01-01  3502665.10\n",
              "1 2021-02-01  4417466.97\n",
              "2 2021-03-01  3598873.19"
            ],
            "text/html": [
              "\n",
              "  <div id=\"df-1b6b49db-468d-4a51-ade8-e2e822ad936b\">\n",
              "    <div class=\"colab-df-container\">\n",
              "      <div>\n",
              "<style scoped>\n",
              "    .dataframe tbody tr th:only-of-type {\n",
              "        vertical-align: middle;\n",
              "    }\n",
              "\n",
              "    .dataframe tbody tr th {\n",
              "        vertical-align: top;\n",
              "    }\n",
              "\n",
              "    .dataframe thead th {\n",
              "        text-align: right;\n",
              "    }\n",
              "</style>\n",
              "<table border=\"1\" class=\"dataframe\">\n",
              "  <thead>\n",
              "    <tr style=\"text-align: right;\">\n",
              "      <th></th>\n",
              "      <th>mnth_gen</th>\n",
              "      <th>turnover</th>\n",
              "    </tr>\n",
              "  </thead>\n",
              "  <tbody>\n",
              "    <tr>\n",
              "      <th>0</th>\n",
              "      <td>2021-01-01</td>\n",
              "      <td>3502665.10</td>\n",
              "    </tr>\n",
              "    <tr>\n",
              "      <th>1</th>\n",
              "      <td>2021-02-01</td>\n",
              "      <td>4417466.97</td>\n",
              "    </tr>\n",
              "    <tr>\n",
              "      <th>2</th>\n",
              "      <td>2021-03-01</td>\n",
              "      <td>3598873.19</td>\n",
              "    </tr>\n",
              "  </tbody>\n",
              "</table>\n",
              "</div>\n",
              "      <button class=\"colab-df-convert\" onclick=\"convertToInteractive('df-1b6b49db-468d-4a51-ade8-e2e822ad936b')\"\n",
              "              title=\"Convert this dataframe to an interactive table.\"\n",
              "              style=\"display:none;\">\n",
              "        \n",
              "  <svg xmlns=\"http://www.w3.org/2000/svg\" height=\"24px\"viewBox=\"0 0 24 24\"\n",
              "       width=\"24px\">\n",
              "    <path d=\"M0 0h24v24H0V0z\" fill=\"none\"/>\n",
              "    <path d=\"M18.56 5.44l.94 2.06.94-2.06 2.06-.94-2.06-.94-.94-2.06-.94 2.06-2.06.94zm-11 1L8.5 8.5l.94-2.06 2.06-.94-2.06-.94L8.5 2.5l-.94 2.06-2.06.94zm10 10l.94 2.06.94-2.06 2.06-.94-2.06-.94-.94-2.06-.94 2.06-2.06.94z\"/><path d=\"M17.41 7.96l-1.37-1.37c-.4-.4-.92-.59-1.43-.59-.52 0-1.04.2-1.43.59L10.3 9.45l-7.72 7.72c-.78.78-.78 2.05 0 2.83L4 21.41c.39.39.9.59 1.41.59.51 0 1.02-.2 1.41-.59l7.78-7.78 2.81-2.81c.8-.78.8-2.07 0-2.86zM5.41 20L4 18.59l7.72-7.72 1.47 1.35L5.41 20z\"/>\n",
              "  </svg>\n",
              "      </button>\n",
              "      \n",
              "  <style>\n",
              "    .colab-df-container {\n",
              "      display:flex;\n",
              "      flex-wrap:wrap;\n",
              "      gap: 12px;\n",
              "    }\n",
              "\n",
              "    .colab-df-convert {\n",
              "      background-color: #E8F0FE;\n",
              "      border: none;\n",
              "      border-radius: 50%;\n",
              "      cursor: pointer;\n",
              "      display: none;\n",
              "      fill: #1967D2;\n",
              "      height: 32px;\n",
              "      padding: 0 0 0 0;\n",
              "      width: 32px;\n",
              "    }\n",
              "\n",
              "    .colab-df-convert:hover {\n",
              "      background-color: #E2EBFA;\n",
              "      box-shadow: 0px 1px 2px rgba(60, 64, 67, 0.3), 0px 1px 3px 1px rgba(60, 64, 67, 0.15);\n",
              "      fill: #174EA6;\n",
              "    }\n",
              "\n",
              "    [theme=dark] .colab-df-convert {\n",
              "      background-color: #3B4455;\n",
              "      fill: #D2E3FC;\n",
              "    }\n",
              "\n",
              "    [theme=dark] .colab-df-convert:hover {\n",
              "      background-color: #434B5C;\n",
              "      box-shadow: 0px 1px 3px 1px rgba(0, 0, 0, 0.15);\n",
              "      filter: drop-shadow(0px 1px 2px rgba(0, 0, 0, 0.3));\n",
              "      fill: #FFFFFF;\n",
              "    }\n",
              "  </style>\n",
              "\n",
              "      <script>\n",
              "        const buttonEl =\n",
              "          document.querySelector('#df-1b6b49db-468d-4a51-ade8-e2e822ad936b button.colab-df-convert');\n",
              "        buttonEl.style.display =\n",
              "          google.colab.kernel.accessAllowed ? 'block' : 'none';\n",
              "\n",
              "        async function convertToInteractive(key) {\n",
              "          const element = document.querySelector('#df-1b6b49db-468d-4a51-ade8-e2e822ad936b');\n",
              "          const dataTable =\n",
              "            await google.colab.kernel.invokeFunction('convertToInteractive',\n",
              "                                                     [key], {});\n",
              "          if (!dataTable) return;\n",
              "\n",
              "          const docLinkHtml = 'Like what you see? Visit the ' +\n",
              "            '<a target=\"_blank\" href=https://colab.research.google.com/notebooks/data_table.ipynb>data table notebook</a>'\n",
              "            + ' to learn more about interactive tables.';\n",
              "          element.innerHTML = '';\n",
              "          dataTable['output_type'] = 'display_data';\n",
              "          await google.colab.output.renderOutput(dataTable, element);\n",
              "          const docLink = document.createElement('div');\n",
              "          docLink.innerHTML = docLinkHtml;\n",
              "          element.appendChild(docLink);\n",
              "        }\n",
              "      </script>\n",
              "    </div>\n",
              "  </div>\n",
              "  "
            ]
          },
          "metadata": {},
          "execution_count": 82
        }
      ]
    },
    {
      "cell_type": "code",
      "source": [
        "done_work_Popup_grouped.plot(x='mnth_gen', y ='turnover', kind='line')\n",
        "plt.show()"
      ],
      "metadata": {
        "colab": {
          "base_uri": "https://localhost:8080/",
          "height": 303
        },
        "id": "rouuEBKNyPsV",
        "outputId": "7bf02ad1-ab77-4909-dafa-fd36b0dc9fb5"
      },
      "execution_count": 83,
      "outputs": [
        {
          "output_type": "display_data",
          "data": {
            "text/plain": [
              "<Figure size 432x288 with 1 Axes>"
            ],
            "image/png": "[encoded data removed]"
          },
          "metadata": {
            "needs_background": "light"
          }
        }
      ]
    },
    {
      "cell_type": "code",
      "source": [
        "done_work_grouped=done_work.groupby('mnth_gen', as_index=False).agg({'turnover':'sum'})"
      ],
      "metadata": {
        "id": "GZvwj7mQqDlD"
      },
      "execution_count": 69,
      "outputs": []
    },
    {
      "cell_type": "code",
      "source": [
        "done_work_grouped.head(3)"
      ],
      "metadata": {
        "colab": {
          "base_uri": "https://localhost:8080/",
          "height": 143
        },
        "id": "n6yOBhSzc3fd",
        "outputId": "14667d04-d090-4ca2-e83c-7861940e89ca"
      },
      "execution_count": 72,
      "outputs": [
        {
          "output_type": "execute_result",
          "data": {
            "text/plain": [
              "    mnth_gen      turnover\n",
              "0 2021-01-01  1.891700e+08\n",
              "1 2021-02-01  2.192365e+08\n",
              "2 2021-03-01  1.857200e+08"
            ],
            "text/html": [
              "\n",
              "  <div id=\"df-aacd955b-f204-473d-826f-bd7869e153c4\">\n",
              "    <div class=\"colab-df-container\">\n",
              "      <div>\n",
              "<style scoped>\n",
              "    .dataframe tbody tr th:only-of-type {\n",
              "        vertical-align: middle;\n",
              "    }\n",
              "\n",
              "    .dataframe tbody tr th {\n",
              "        vertical-align: top;\n",
              "    }\n",
              "\n",
              "    .dataframe thead th {\n",
              "        text-align: right;\n",
              "    }\n",
              "</style>\n",
              "<table border=\"1\" class=\"dataframe\">\n",
              "  <thead>\n",
              "    <tr style=\"text-align: right;\">\n",
              "      <th></th>\n",
              "      <th>mnth_gen</th>\n",
              "      <th>turnover</th>\n",
              "    </tr>\n",
              "  </thead>\n",
              "  <tbody>\n",
              "    <tr>\n",
              "      <th>0</th>\n",
              "      <td>2021-01-01</td>\n",
              "      <td>1.891700e+08</td>\n",
              "    </tr>\n",
              "    <tr>\n",
              "      <th>1</th>\n",
              "      <td>2021-02-01</td>\n",
              "      <td>2.192365e+08</td>\n",
              "    </tr>\n",
              "    <tr>\n",
              "      <th>2</th>\n",
              "      <td>2021-03-01</td>\n",
              "      <td>1.857200e+08</td>\n",
              "    </tr>\n",
              "  </tbody>\n",
              "</table>\n",
              "</div>\n",
              "      <button class=\"colab-df-convert\" onclick=\"convertToInteractive('df-aacd955b-f204-473d-826f-bd7869e153c4')\"\n",
              "              title=\"Convert this dataframe to an interactive table.\"\n",
              "              style=\"display:none;\">\n",
              "        \n",
              "  <svg xmlns=\"http://www.w3.org/2000/svg\" height=\"24px\"viewBox=\"0 0 24 24\"\n",
              "       width=\"24px\">\n",
              "    <path d=\"M0 0h24v24H0V0z\" fill=\"none\"/>\n",
              "    <path d=\"M18.56 5.44l.94 2.06.94-2.06 2.06-.94-2.06-.94-.94-2.06-.94 2.06-2.06.94zm-11 1L8.5 8.5l.94-2.06 2.06-.94-2.06-.94L8.5 2.5l-.94 2.06-2.06.94zm10 10l.94 2.06.94-2.06 2.06-.94-2.06-.94-.94-2.06-.94 2.06-2.06.94z\"/><path d=\"M17.41 7.96l-1.37-1.37c-.4-.4-.92-.59-1.43-.59-.52 0-1.04.2-1.43.59L10.3 9.45l-7.72 7.72c-.78.78-.78 2.05 0 2.83L4 21.41c.39.39.9.59 1.41.59.51 0 1.02-.2 1.41-.59l7.78-7.78 2.81-2.81c.8-.78.8-2.07 0-2.86zM5.41 20L4 18.59l7.72-7.72 1.47 1.35L5.41 20z\"/>\n",
              "  </svg>\n",
              "      </button>\n",
              "      \n",
              "  <style>\n",
              "    .colab-df-container {\n",
              "      display:flex;\n",
              "      flex-wrap:wrap;\n",
              "      gap: 12px;\n",
              "    }\n",
              "\n",
              "    .colab-df-convert {\n",
              "      background-color: #E8F0FE;\n",
              "      border: none;\n",
              "      border-radius: 50%;\n",
              "      cursor: pointer;\n",
              "      display: none;\n",
              "      fill: #1967D2;\n",
              "      height: 32px;\n",
              "      padding: 0 0 0 0;\n",
              "      width: 32px;\n",
              "    }\n",
              "\n",
              "    .colab-df-convert:hover {\n",
              "      background-color: #E2EBFA;\n",
              "      box-shadow: 0px 1px 2px rgba(60, 64, 67, 0.3), 0px 1px 3px 1px rgba(60, 64, 67, 0.15);\n",
              "      fill: #174EA6;\n",
              "    }\n",
              "\n",
              "    [theme=dark] .colab-df-convert {\n",
              "      background-color: #3B4455;\n",
              "      fill: #D2E3FC;\n",
              "    }\n",
              "\n",
              "    [theme=dark] .colab-df-convert:hover {\n",
              "      background-color: #434B5C;\n",
              "      box-shadow: 0px 1px 3px 1px rgba(0, 0, 0, 0.15);\n",
              "      filter: drop-shadow(0px 1px 2px rgba(0, 0, 0, 0.3));\n",
              "      fill: #FFFFFF;\n",
              "    }\n",
              "  </style>\n",
              "\n",
              "      <script>\n",
              "        const buttonEl =\n",
              "          document.querySelector('#df-aacd955b-f204-473d-826f-bd7869e153c4 button.colab-df-convert');\n",
              "        buttonEl.style.display =\n",
              "          google.colab.kernel.accessAllowed ? 'block' : 'none';\n",
              "\n",
              "        async function convertToInteractive(key) {\n",
              "          const element = document.querySelector('#df-aacd955b-f204-473d-826f-bd7869e153c4');\n",
              "          const dataTable =\n",
              "            await google.colab.kernel.invokeFunction('convertToInteractive',\n",
              "                                                     [key], {});\n",
              "          if (!dataTable) return;\n",
              "\n",
              "          const docLinkHtml = 'Like what you see? Visit the ' +\n",
              "            '<a target=\"_blank\" href=https://colab.research.google.com/notebooks/data_table.ipynb>data table notebook</a>'\n",
              "            + ' to learn more about interactive tables.';\n",
              "          element.innerHTML = '';\n",
              "          dataTable['output_type'] = 'display_data';\n",
              "          await google.colab.output.renderOutput(dataTable, element);\n",
              "          const docLink = document.createElement('div');\n",
              "          docLink.innerHTML = docLinkHtml;\n",
              "          element.appendChild(docLink);\n",
              "        }\n",
              "      </script>\n",
              "    </div>\n",
              "  </div>\n",
              "  "
            ]
          },
          "metadata": {},
          "execution_count": 72
        }
      ]
    },
    {
      "cell_type": "code",
      "source": [
        "done_work_grouped.plot(x='mnth_gen', y ='turnover', kind='line')\n",
        "plt.show()"
      ],
      "metadata": {
        "id": "gfQZnLNBronm",
        "colab": {
          "base_uri": "https://localhost:8080/",
          "height": 303
        },
        "outputId": "138f2474-a9cd-4312-d3e9-df88fbd537f2"
      },
      "execution_count": 73,
      "outputs": [
        {
          "output_type": "display_data",
          "data": {
            "text/plain": [
              "<Figure size 432x288 with 1 Axes>"
            ],
            "image/png": "[encoded data removed]"
          },
          "metadata": {
            "needs_background": "light"
          }
        }
      ]
    },
    {
      "cell_type": "code",
      "source": [],
      "metadata": {
        "id": "-Vnindvfc131"
      },
      "execution_count": null,
      "outputs": []
    }
  ]
}